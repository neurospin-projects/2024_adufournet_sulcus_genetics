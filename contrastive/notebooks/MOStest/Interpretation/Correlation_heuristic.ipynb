{
 "cells": [
  {
   "cell_type": "code",
   "execution_count": 5,
   "metadata": {},
   "outputs": [],
   "source": [
    "import os\n",
    "import glob\n",
    "import pandas as pd\n",
    "import numpy as np\n",
    "import matplotlib.pyplot as plt\n",
    "import seaborn as sns"
   ]
  },
  {
   "cell_type": "code",
   "execution_count": 44,
   "metadata": {},
   "outputs": [],
   "source": [
    "base_path='/volatile/ad279118/Irene/MOSTEST/Results/ChampollionV0/CINGULATE_right/09-52-22_75/Sorted_projection/'"
   ]
  },
  {
   "cell_type": "code",
   "execution_count": 45,
   "metadata": {},
   "outputs": [],
   "source": [
    "list_leadSNP = ['rs111328903_T', \n",
    "'rs7728751_A', \n",
    "'rs7636227_A', \n",
    "'rs3020595_G'\n",
    "]"
   ]
  },
  {
   "cell_type": "code",
   "execution_count": 46,
   "metadata": {},
   "outputs": [
    {
     "name": "stdout",
     "output_type": "stream",
     "text": [
      "rs111328903_T.csv\n",
      "rs7728751_A.csv\n",
      "rs7636227_A.csv\n",
      "rs3020595_G.csv\n"
     ]
    }
   ],
   "source": [
    "for path in glob.glob(os.path.join(base_path, '*')):\n",
    "    for finalpath in glob.glob(os.path.join(path, '*')):\n",
    "        print(finalpath.split(f'{path}/')[1])\n",
    "    break"
   ]
  },
  {
   "cell_type": "code",
   "execution_count": 47,
   "metadata": {},
   "outputs": [
    {
     "data": {
      "text/html": [
       "<div>\n",
       "<style scoped>\n",
       "    .dataframe tbody tr th:only-of-type {\n",
       "        vertical-align: middle;\n",
       "    }\n",
       "\n",
       "    .dataframe tbody tr th {\n",
       "        vertical-align: top;\n",
       "    }\n",
       "\n",
       "    .dataframe thead th {\n",
       "        text-align: right;\n",
       "    }\n",
       "</style>\n",
       "<table border=\"1\" class=\"dataframe\">\n",
       "  <thead>\n",
       "    <tr style=\"text-align: right;\">\n",
       "      <th></th>\n",
       "      <th>IID</th>\n",
       "      <th>projection</th>\n",
       "    </tr>\n",
       "  </thead>\n",
       "  <tbody>\n",
       "    <tr>\n",
       "      <th>0</th>\n",
       "      <td>4656488</td>\n",
       "      <td>-0.164064</td>\n",
       "    </tr>\n",
       "    <tr>\n",
       "      <th>1</th>\n",
       "      <td>3389942</td>\n",
       "      <td>-0.149974</td>\n",
       "    </tr>\n",
       "    <tr>\n",
       "      <th>2</th>\n",
       "      <td>2516958</td>\n",
       "      <td>-0.148531</td>\n",
       "    </tr>\n",
       "    <tr>\n",
       "      <th>3</th>\n",
       "      <td>1475079</td>\n",
       "      <td>-0.148092</td>\n",
       "    </tr>\n",
       "    <tr>\n",
       "      <th>4</th>\n",
       "      <td>1375693</td>\n",
       "      <td>-0.144072</td>\n",
       "    </tr>\n",
       "    <tr>\n",
       "      <th>...</th>\n",
       "      <td>...</td>\n",
       "      <td>...</td>\n",
       "    </tr>\n",
       "    <tr>\n",
       "      <th>34039</th>\n",
       "      <td>2176091</td>\n",
       "      <td>0.131864</td>\n",
       "    </tr>\n",
       "    <tr>\n",
       "      <th>34040</th>\n",
       "      <td>5354402</td>\n",
       "      <td>0.134365</td>\n",
       "    </tr>\n",
       "    <tr>\n",
       "      <th>34041</th>\n",
       "      <td>5600200</td>\n",
       "      <td>0.137936</td>\n",
       "    </tr>\n",
       "    <tr>\n",
       "      <th>34042</th>\n",
       "      <td>5904085</td>\n",
       "      <td>0.141663</td>\n",
       "    </tr>\n",
       "    <tr>\n",
       "      <th>34043</th>\n",
       "      <td>2747895</td>\n",
       "      <td>0.144635</td>\n",
       "    </tr>\n",
       "  </tbody>\n",
       "</table>\n",
       "<p>34044 rows × 2 columns</p>\n",
       "</div>"
      ],
      "text/plain": [
       "           IID  projection\n",
       "0      4656488   -0.164064\n",
       "1      3389942   -0.149974\n",
       "2      2516958   -0.148531\n",
       "3      1475079   -0.148092\n",
       "4      1375693   -0.144072\n",
       "...        ...         ...\n",
       "34039  2176091    0.131864\n",
       "34040  5354402    0.134365\n",
       "34041  5600200    0.137936\n",
       "34042  5904085    0.141663\n",
       "34043  2747895    0.144635\n",
       "\n",
       "[34044 rows x 2 columns]"
      ]
     },
     "execution_count": 47,
     "metadata": {},
     "output_type": "execute_result"
    }
   ],
   "source": [
    "rsID_A = \"rs111328903_T.csv\"\n",
    "\n",
    "a = pd.read_csv(f'{base_path}/direction_square_Z_score/{rsID_A}')\n",
    "\n",
    "b = pd.read_csv(f'{base_path}/direction_Z_score/{rsID_A}')\n",
    "\n",
    "c = pd.read_csv(f'{base_path}/regression_on_latent/{rsID_A}')\n",
    "c"
   ]
  },
  {
   "cell_type": "code",
   "execution_count": 48,
   "metadata": {},
   "outputs": [
    {
     "data": {
      "text/plain": [
       "array([[ 1., -1.],\n",
       "       [-1.,  1.]])"
      ]
     },
     "execution_count": 48,
     "metadata": {},
     "output_type": "execute_result"
    }
   ],
   "source": [
    "np.corrcoef(np.array([1,2,3,4,5,6,7,8,9]), np.array([9,8,7,6,5,4,3,2,1]))"
   ]
  },
  {
   "cell_type": "code",
   "execution_count": 49,
   "metadata": {},
   "outputs": [
    {
     "data": {
      "text/plain": [
       "array([[1.     , 0.99981],\n",
       "       [0.99981, 1.     ]])"
      ]
     },
     "execution_count": 49,
     "metadata": {},
     "output_type": "execute_result"
    }
   ],
   "source": [
    "np.corrcoef(a.projection, b.projection)"
   ]
  },
  {
   "cell_type": "code",
   "execution_count": 50,
   "metadata": {},
   "outputs": [
    {
     "data": {
      "text/html": [
       "<div>\n",
       "<style scoped>\n",
       "    .dataframe tbody tr th:only-of-type {\n",
       "        vertical-align: middle;\n",
       "    }\n",
       "\n",
       "    .dataframe tbody tr th {\n",
       "        vertical-align: top;\n",
       "    }\n",
       "\n",
       "    .dataframe thead th {\n",
       "        text-align: right;\n",
       "    }\n",
       "</style>\n",
       "<table border=\"1\" class=\"dataframe\">\n",
       "  <thead>\n",
       "    <tr style=\"text-align: right;\">\n",
       "      <th></th>\n",
       "      <th>IID</th>\n",
       "      <th>projection_x</th>\n",
       "      <th>projection_y</th>\n",
       "    </tr>\n",
       "  </thead>\n",
       "  <tbody>\n",
       "    <tr>\n",
       "      <th>0</th>\n",
       "      <td>2516958</td>\n",
       "      <td>0.132141</td>\n",
       "      <td>-0.148531</td>\n",
       "    </tr>\n",
       "    <tr>\n",
       "      <th>1</th>\n",
       "      <td>4656488</td>\n",
       "      <td>0.131306</td>\n",
       "      <td>-0.164064</td>\n",
       "    </tr>\n",
       "    <tr>\n",
       "      <th>2</th>\n",
       "      <td>4748953</td>\n",
       "      <td>0.122394</td>\n",
       "      <td>-0.143674</td>\n",
       "    </tr>\n",
       "    <tr>\n",
       "      <th>3</th>\n",
       "      <td>5374510</td>\n",
       "      <td>0.121120</td>\n",
       "      <td>-0.138842</td>\n",
       "    </tr>\n",
       "    <tr>\n",
       "      <th>4</th>\n",
       "      <td>5497727</td>\n",
       "      <td>0.120425</td>\n",
       "      <td>-0.128094</td>\n",
       "    </tr>\n",
       "    <tr>\n",
       "      <th>...</th>\n",
       "      <td>...</td>\n",
       "      <td>...</td>\n",
       "      <td>...</td>\n",
       "    </tr>\n",
       "    <tr>\n",
       "      <th>34039</th>\n",
       "      <td>1091508</td>\n",
       "      <td>-0.115422</td>\n",
       "      <td>0.124354</td>\n",
       "    </tr>\n",
       "    <tr>\n",
       "      <th>34040</th>\n",
       "      <td>5600200</td>\n",
       "      <td>-0.116112</td>\n",
       "      <td>0.137936</td>\n",
       "    </tr>\n",
       "    <tr>\n",
       "      <th>34041</th>\n",
       "      <td>1715213</td>\n",
       "      <td>-0.116868</td>\n",
       "      <td>0.127411</td>\n",
       "    </tr>\n",
       "    <tr>\n",
       "      <th>34042</th>\n",
       "      <td>5265453</td>\n",
       "      <td>-0.117407</td>\n",
       "      <td>0.124795</td>\n",
       "    </tr>\n",
       "    <tr>\n",
       "      <th>34043</th>\n",
       "      <td>2164857</td>\n",
       "      <td>-0.119143</td>\n",
       "      <td>0.121922</td>\n",
       "    </tr>\n",
       "  </tbody>\n",
       "</table>\n",
       "<p>34044 rows × 3 columns</p>\n",
       "</div>"
      ],
      "text/plain": [
       "           IID  projection_x  projection_y\n",
       "0      2516958      0.132141     -0.148531\n",
       "1      4656488      0.131306     -0.164064\n",
       "2      4748953      0.122394     -0.143674\n",
       "3      5374510      0.121120     -0.138842\n",
       "4      5497727      0.120425     -0.128094\n",
       "...        ...           ...           ...\n",
       "34039  1091508     -0.115422      0.124354\n",
       "34040  5600200     -0.116112      0.137936\n",
       "34041  1715213     -0.116868      0.127411\n",
       "34042  5265453     -0.117407      0.124795\n",
       "34043  2164857     -0.119143      0.121922\n",
       "\n",
       "[34044 rows x 3 columns]"
      ]
     },
     "execution_count": 50,
     "metadata": {},
     "output_type": "execute_result"
    }
   ],
   "source": [
    "merge = pd.merge(left=a, right=c, on='IID', how='inner')\n",
    "merge"
   ]
  },
  {
   "cell_type": "code",
   "execution_count": 51,
   "metadata": {},
   "outputs": [
    {
     "data": {
      "text/html": [
       "<div>\n",
       "<style scoped>\n",
       "    .dataframe tbody tr th:only-of-type {\n",
       "        vertical-align: middle;\n",
       "    }\n",
       "\n",
       "    .dataframe tbody tr th {\n",
       "        vertical-align: top;\n",
       "    }\n",
       "\n",
       "    .dataframe thead th {\n",
       "        text-align: right;\n",
       "    }\n",
       "</style>\n",
       "<table border=\"1\" class=\"dataframe\">\n",
       "  <thead>\n",
       "    <tr style=\"text-align: right;\">\n",
       "      <th></th>\n",
       "      <th>projection_x</th>\n",
       "      <th>projection_y</th>\n",
       "    </tr>\n",
       "  </thead>\n",
       "  <tbody>\n",
       "    <tr>\n",
       "      <th>projection_x</th>\n",
       "      <td>1.000000</td>\n",
       "      <td>-0.894773</td>\n",
       "    </tr>\n",
       "    <tr>\n",
       "      <th>projection_y</th>\n",
       "      <td>-0.894773</td>\n",
       "      <td>1.000000</td>\n",
       "    </tr>\n",
       "  </tbody>\n",
       "</table>\n",
       "</div>"
      ],
      "text/plain": [
       "              projection_x  projection_y\n",
       "projection_x      1.000000     -0.894773\n",
       "projection_y     -0.894773      1.000000"
      ]
     },
     "execution_count": 51,
     "metadata": {},
     "output_type": "execute_result"
    }
   ],
   "source": [
    "merge.drop('IID', axis=1).corr()"
   ]
  }
 ],
 "metadata": {
  "kernelspec": {
   "display_name": "venv",
   "language": "python",
   "name": "python3"
  },
  "language_info": {
   "codemirror_mode": {
    "name": "ipython",
    "version": 3
   },
   "file_extension": ".py",
   "mimetype": "text/x-python",
   "name": "python",
   "nbconvert_exporter": "python",
   "pygments_lexer": "ipython3",
   "version": "3.10.12"
  }
 },
 "nbformat": 4,
 "nbformat_minor": 2
}
