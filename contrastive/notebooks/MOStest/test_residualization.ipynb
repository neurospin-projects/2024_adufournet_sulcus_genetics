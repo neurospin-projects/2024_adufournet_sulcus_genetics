{
 "cells": [
  {
   "cell_type": "code",
   "execution_count": 1,
   "metadata": {},
   "outputs": [],
   "source": [
    "import numpy as np\n",
    "import seaborn as sns\n",
    "import matplotlib.pyplot as plt\n",
    "import pandas as pd\n",
    "import statsmodels.api as sm\n",
    "from scipy.stats import norm"
   ]
  },
  {
   "cell_type": "code",
   "execution_count": 19,
   "metadata": {},
   "outputs": [],
   "source": [
    "# ebd_left_CINGULATE = pd.read_csv(/ccc/scratch/cont003/n4h00001/dufourna/Left_PCS/11-25-46_0/ukb_random_epoch80_embeddings/left_CINGULATE.csv')\n",
    "ebd_left_CINGULATE = pd.read_csv('/neurospin/dico/adufournet/mycode/Output/2024-07-22/11-25-46_0/ukb_random_epoch80_embeddings/full_embeddings.csv')\n",
    "# covar_file = pd.read_csv(/ccc/scratch/cont003/n4h00001/dufourna/UkBioBank/participants.csv')\n",
    "covar_file = pd.read_csv('/neurospin/dico/data/deep_folding/current/datasets/UkBioBank/participants.csv')\n",
    "covar_file = covar_file[[\"participant_id\", \"BrainVolumeFreeSurfer_mm3\"]]"
   ]
  },
  {
   "cell_type": "code",
   "execution_count": 20,
   "metadata": {},
   "outputs": [],
   "source": [
    "#ebd_left_CINGULATE['IID'] = ebd_left_CINGULATE['ID'].apply(lambda x: x[-7:]).astype(int)\n",
    "#ebd_left_CINGULATE = ebd_left_CINGULATE.drop('ID', axis=1)\n",
    "#ebd_left_CINGULATE.to_csv(\"~/Bureau/Irene/2024-07-22/11-25-46_0/ukb_random_epoch80_embeddings/full_embeddings.csv\", index=False)"
   ]
  },
  {
   "cell_type": "code",
   "execution_count": null,
   "metadata": {},
   "outputs": [],
   "source": [
    "pheno = pd.read_csv(\"ccc/scratch/cont003/n4h00001/dufourna/Left_PCS/11-25-46_0/ukb_random_epoch80_embeddings/left_CINGULATE_pheno.phe\", sep='\\t')\n",
    "cov = pd.read_csv(\"ccc/scratch/cont003/n4h00001/dufourna/Left_PCS/11-25-46_0/ukb_random_epoch80_embeddings/left_CINGULATE_covar.cov\", sep='\\t')\n",
    "pheno_cov = pd.merge(left=pheno, right=cov.drop('#FID', axis=1), on='IID', how='inner')\n",
    "\n",
    "pheno_cov = pd.merge(left=pheno_cov, right=covar_file, how='inner', left_on='IID', right_on='participant_id')\n",
    "pheno_cov = pheno_cov.drop(\"participant_id\", axis=1)"
   ]
  },
  {
   "cell_type": "code",
   "execution_count": null,
   "metadata": {},
   "outputs": [],
   "source": [
    "# Define the covariates\n",
    "list_cov = ['Age','Cheadle','Sex','PC01','PC02','PC03','PC04','PC05','PC06','PC07','PC08','PC09','PC10','BrainVolumeFreeSurfer_mm3']\n",
    "\n",
    "# List of dimensions (that can be seen as phenotypes)\n",
    "phenotype_col = [f'dim{i}' for i in range(1,257)]\n",
    "\n",
    "for col in phenotype_col:\n",
    "    # Fit the linear model\n",
    "    X = pheno_cov[list_cov]\n",
    "    X = sm.add_constant(X)  # Adds a constant term to the predictor\n",
    "    y = pheno_cov[col]\n",
    "    model = sm.OLS(y, X, missing='drop').fit()\n",
    "\n",
    "    # Get the intercept and residuals\n",
    "    intercept = model.params.loc['const']\n",
    "    residuals = model.resid\n",
    "\n",
    "    # Update the phenotype column with the pre-residualized values\n",
    "    pheno_cov[col] = intercept + residuals"
   ]
  },
  {
   "cell_type": "code",
   "execution_count": null,
   "metadata": {},
   "outputs": [],
   "source": [
    "for dim_i in phenotype_col:\n",
    "    # Calculate the ECDF values for 'dim_i'\n",
    "    ecdf_values = pheno_cov[dim_i].rank(method='average') / len(pheno_cov[dim_i])\n",
    "\n",
    "    # Apply the quantile function of the normal distribution\n",
    "    qnorm_values = norm.ppf(ecdf_values - 0.5 / len(pheno_cov[dim_i]))\n",
    "\n",
    "    # Assign the transformed values back to 'dim_i'\n",
    "    pheno_cov[dim_i] = qnorm_values"
   ]
  },
  {
   "cell_type": "code",
   "execution_count": null,
   "metadata": {},
   "outputs": [],
   "source": [
    "pheno_cov[phenotype_col].to_csv(\"ccc/scratch/cont003/n4h00001/dufourna/Left_PCS/11-25-46_0/ukb_random_epoch80_embeddings/left_CINGULATE_pheno.txt\", sep='\\t', index=False)"
   ]
  }
 ],
 "metadata": {
  "kernelspec": {
   "display_name": "venv",
   "language": "python",
   "name": "python3"
  },
  "language_info": {
   "codemirror_mode": {
    "name": "ipython",
    "version": 3
   },
   "file_extension": ".py",
   "mimetype": "text/x-python",
   "name": "python",
   "nbconvert_exporter": "python",
   "pygments_lexer": "ipython3",
   "version": "3.10.12"
  }
 },
 "nbformat": 4,
 "nbformat_minor": 2
}
