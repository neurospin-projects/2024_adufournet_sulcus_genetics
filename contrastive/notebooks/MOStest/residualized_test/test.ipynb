{
 "cells": [
  {
   "cell_type": "code",
   "execution_count": 1,
   "metadata": {},
   "outputs": [],
   "source": [
    "import pandas as pd\n",
    "import numpy as np"
   ]
  },
  {
   "cell_type": "code",
   "execution_count": null,
   "metadata": {},
   "outputs": [],
   "source": [
    "ebd_left_CINGULATE = pd.read_csv('/neurospin/dico/adufournet/mycode/Output/2024-07-22/11-25-46_0/ukb_random_epoch80_embeddings/full_embeddings.csv')\n",
    "\n",
    "\n",
    "# Number of rows in the DataFrame\n",
    "n_rows = len(ebd_left_CINGULATE)\n",
    "\n",
    "# Generate random data\n",
    "data = {\n",
    "    'FID': np.random.randint(1000000, 5000000, size=n_rows),\n",
    "    'IID': ebd_left_CINGULATE['ID'].apply(lambda x: x[-7:]).astype(int),\n",
    "    'Age': np.random.randint(50, 80, size=n_rows).astype(float),\n",
    "    'Cheadle': np.random.choice([1, 0], size=n_rows),\n",
    "    'Sex': np.random.choice([0, 1], size=n_rows),\n",
    "    'PC01': np.random.uniform(-3, 3, size=n_rows),\n",
    "    'PC02': np.random.uniform(-3, 3, size=n_rows),\n",
    "    'PC03': np.random.uniform(-3, 3, size=n_rows),\n",
    "    'PC04': np.random.uniform(-3, 3, size=n_rows),\n",
    "    'PC05': np.random.uniform(-3, 3, size=n_rows),\n",
    "    'PC06': np.random.uniform(-3, 3, size=n_rows),\n",
    "    'PC07': np.random.uniform(-3, 3, size=n_rows),\n",
    "    'PC08': np.random.uniform(-3, 3, size=n_rows),\n",
    "    'PC09': np.random.uniform(-3, 3, size=n_rows),\n",
    "    'PC10': np.random.uniform(-3, 3, size=n_rows),\n",
    "    'BrainVolumeFreeSurfer_mm3': np.random.uniform(1000000, 2000000, size=n_rows).astype(float),\n",
    "}\n",
    "\n",
    "# Create DataFrame\n",
    "df = pd.DataFrame(data)\n",
    "\n",
    "# Print DataFrame\n",
    "df"
   ]
  },
  {
   "cell_type": "code",
   "execution_count": 6,
   "metadata": {},
   "outputs": [],
   "source": [
    "df.to_csv('random_cov.csv', sep='\\t', index=False)"
   ]
  },
  {
   "cell_type": "code",
   "execution_count": 9,
   "metadata": {},
   "outputs": [],
   "source": [
    "ebd_left_CINGULATE = ebd_left_CINGULATE.rename(columns={'ID':'IID'})"
   ]
  },
  {
   "cell_type": "code",
   "execution_count": 10,
   "metadata": {},
   "outputs": [],
   "source": [
    "ebd_left_CINGULATE['IID'] = ebd_left_CINGULATE['IID'].apply(lambda x: x[-7:]).astype(int)"
   ]
  },
  {
   "cell_type": "code",
   "execution_count": 12,
   "metadata": {},
   "outputs": [],
   "source": [
    "ebd_left_CINGULATE.to_csv('latent.csv', index=False)"
   ]
  }
 ],
 "metadata": {
  "kernelspec": {
   "display_name": "venv",
   "language": "python",
   "name": "python3"
  },
  "language_info": {
   "codemirror_mode": {
    "name": "ipython",
    "version": 3
   },
   "file_extension": ".py",
   "mimetype": "text/x-python",
   "name": "python",
   "nbconvert_exporter": "python",
   "pygments_lexer": "ipython3",
   "version": "3.10.12"
  }
 },
 "nbformat": 4,
 "nbformat_minor": 2
}
