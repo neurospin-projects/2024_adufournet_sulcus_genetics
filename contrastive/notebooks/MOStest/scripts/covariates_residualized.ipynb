{
 "cells": [
  {
   "cell_type": "code",
   "execution_count": 12,
   "metadata": {},
   "outputs": [],
   "source": [
    "import numpy as np\n",
    "import seaborn as sns\n",
    "import matplotlib.pyplot as plt\n",
    "import pandas as pd\n",
    "import statsmodels.api as sm\n",
    "from scipy.stats import norm"
   ]
  },
  {
   "cell_type": "code",
   "execution_count": 13,
   "metadata": {},
   "outputs": [
    {
     "name": "stdout",
     "output_type": "stream",
     "text": [
      "(21045, 258)\n"
     ]
    },
    {
     "data": {
      "text/html": [
       "<div>\n",
       "<style scoped>\n",
       "    .dataframe tbody tr th:only-of-type {\n",
       "        vertical-align: middle;\n",
       "    }\n",
       "\n",
       "    .dataframe tbody tr th {\n",
       "        vertical-align: top;\n",
       "    }\n",
       "\n",
       "    .dataframe thead th {\n",
       "        text-align: right;\n",
       "    }\n",
       "</style>\n",
       "<table border=\"1\" class=\"dataframe\">\n",
       "  <thead>\n",
       "    <tr style=\"text-align: right;\">\n",
       "      <th></th>\n",
       "      <th>FID</th>\n",
       "      <th>IID</th>\n",
       "      <th>dim1</th>\n",
       "      <th>dim2</th>\n",
       "      <th>dim3</th>\n",
       "      <th>dim4</th>\n",
       "      <th>dim5</th>\n",
       "      <th>dim6</th>\n",
       "      <th>dim7</th>\n",
       "      <th>dim8</th>\n",
       "      <th>...</th>\n",
       "      <th>dim247</th>\n",
       "      <th>dim248</th>\n",
       "      <th>dim249</th>\n",
       "      <th>dim250</th>\n",
       "      <th>dim251</th>\n",
       "      <th>dim252</th>\n",
       "      <th>dim253</th>\n",
       "      <th>dim254</th>\n",
       "      <th>dim255</th>\n",
       "      <th>dim256</th>\n",
       "    </tr>\n",
       "  </thead>\n",
       "  <tbody>\n",
       "    <tr>\n",
       "      <th>0</th>\n",
       "      <td>1913249</td>\n",
       "      <td>1000021</td>\n",
       "      <td>0.017629</td>\n",
       "      <td>1.079423</td>\n",
       "      <td>0.124071</td>\n",
       "      <td>0.633736</td>\n",
       "      <td>-0.924202</td>\n",
       "      <td>1.117974</td>\n",
       "      <td>1.536370</td>\n",
       "      <td>-0.561391</td>\n",
       "      <td>...</td>\n",
       "      <td>0.424007</td>\n",
       "      <td>2.295310</td>\n",
       "      <td>-0.046469</td>\n",
       "      <td>1.236047</td>\n",
       "      <td>0.579894</td>\n",
       "      <td>0.501846</td>\n",
       "      <td>1.291086</td>\n",
       "      <td>-0.866059</td>\n",
       "      <td>0.968373</td>\n",
       "      <td>-0.185558</td>\n",
       "    </tr>\n",
       "    <tr>\n",
       "      <th>1</th>\n",
       "      <td>2054263</td>\n",
       "      <td>1000458</td>\n",
       "      <td>0.340064</td>\n",
       "      <td>-0.940574</td>\n",
       "      <td>0.044680</td>\n",
       "      <td>0.559023</td>\n",
       "      <td>0.259933</td>\n",
       "      <td>0.484896</td>\n",
       "      <td>-1.528279</td>\n",
       "      <td>1.451338</td>\n",
       "      <td>...</td>\n",
       "      <td>0.423355</td>\n",
       "      <td>-0.387920</td>\n",
       "      <td>0.228884</td>\n",
       "      <td>0.045873</td>\n",
       "      <td>-1.232730</td>\n",
       "      <td>-0.643082</td>\n",
       "      <td>0.594044</td>\n",
       "      <td>-0.297454</td>\n",
       "      <td>-0.588795</td>\n",
       "      <td>-0.316306</td>\n",
       "    </tr>\n",
       "    <tr>\n",
       "      <th>2</th>\n",
       "      <td>2271224</td>\n",
       "      <td>1000575</td>\n",
       "      <td>0.408809</td>\n",
       "      <td>-0.089689</td>\n",
       "      <td>-0.579049</td>\n",
       "      <td>-0.617080</td>\n",
       "      <td>0.839332</td>\n",
       "      <td>-0.334768</td>\n",
       "      <td>-0.045515</td>\n",
       "      <td>-1.266269</td>\n",
       "      <td>...</td>\n",
       "      <td>-1.340623</td>\n",
       "      <td>0.215576</td>\n",
       "      <td>0.347013</td>\n",
       "      <td>0.343979</td>\n",
       "      <td>-1.386178</td>\n",
       "      <td>-0.747143</td>\n",
       "      <td>-1.202240</td>\n",
       "      <td>0.382147</td>\n",
       "      <td>-1.044877</td>\n",
       "      <td>0.354486</td>\n",
       "    </tr>\n",
       "    <tr>\n",
       "      <th>3</th>\n",
       "      <td>3340590</td>\n",
       "      <td>1000606</td>\n",
       "      <td>-0.112676</td>\n",
       "      <td>0.371406</td>\n",
       "      <td>-1.067555</td>\n",
       "      <td>0.739919</td>\n",
       "      <td>1.609388</td>\n",
       "      <td>-1.152458</td>\n",
       "      <td>3.522402</td>\n",
       "      <td>-0.635775</td>\n",
       "      <td>...</td>\n",
       "      <td>1.497239</td>\n",
       "      <td>-0.264741</td>\n",
       "      <td>-0.195382</td>\n",
       "      <td>1.029377</td>\n",
       "      <td>-2.223502</td>\n",
       "      <td>-0.284531</td>\n",
       "      <td>0.054817</td>\n",
       "      <td>1.226642</td>\n",
       "      <td>-0.618954</td>\n",
       "      <td>2.045381</td>\n",
       "    </tr>\n",
       "    <tr>\n",
       "      <th>4</th>\n",
       "      <td>3308682</td>\n",
       "      <td>1000963</td>\n",
       "      <td>-1.062096</td>\n",
       "      <td>-1.573062</td>\n",
       "      <td>0.505091</td>\n",
       "      <td>0.915293</td>\n",
       "      <td>-0.343094</td>\n",
       "      <td>1.306031</td>\n",
       "      <td>-1.225884</td>\n",
       "      <td>1.637412</td>\n",
       "      <td>...</td>\n",
       "      <td>0.401181</td>\n",
       "      <td>-0.627778</td>\n",
       "      <td>0.086700</td>\n",
       "      <td>0.254393</td>\n",
       "      <td>1.361992</td>\n",
       "      <td>-0.281927</td>\n",
       "      <td>1.313897</td>\n",
       "      <td>-1.390236</td>\n",
       "      <td>0.067228</td>\n",
       "      <td>-3.350111</td>\n",
       "    </tr>\n",
       "  </tbody>\n",
       "</table>\n",
       "<p>5 rows × 258 columns</p>\n",
       "</div>"
      ],
      "text/plain": [
       "       FID      IID      dim1      dim2      dim3      dim4      dim5  \\\n",
       "0  1913249  1000021  0.017629  1.079423  0.124071  0.633736 -0.924202   \n",
       "1  2054263  1000458  0.340064 -0.940574  0.044680  0.559023  0.259933   \n",
       "2  2271224  1000575  0.408809 -0.089689 -0.579049 -0.617080  0.839332   \n",
       "3  3340590  1000606 -0.112676  0.371406 -1.067555  0.739919  1.609388   \n",
       "4  3308682  1000963 -1.062096 -1.573062  0.505091  0.915293 -0.343094   \n",
       "\n",
       "       dim6      dim7      dim8  ...    dim247    dim248    dim249    dim250  \\\n",
       "0  1.117974  1.536370 -0.561391  ...  0.424007  2.295310 -0.046469  1.236047   \n",
       "1  0.484896 -1.528279  1.451338  ...  0.423355 -0.387920  0.228884  0.045873   \n",
       "2 -0.334768 -0.045515 -1.266269  ... -1.340623  0.215576  0.347013  0.343979   \n",
       "3 -1.152458  3.522402 -0.635775  ...  1.497239 -0.264741 -0.195382  1.029377   \n",
       "4  1.306031 -1.225884  1.637412  ...  0.401181 -0.627778  0.086700  0.254393   \n",
       "\n",
       "     dim251    dim252    dim253    dim254    dim255    dim256  \n",
       "0  0.579894  0.501846  1.291086 -0.866059  0.968373 -0.185558  \n",
       "1 -1.232730 -0.643082  0.594044 -0.297454 -0.588795 -0.316306  \n",
       "2 -1.386178 -0.747143 -1.202240  0.382147 -1.044877  0.354486  \n",
       "3 -2.223502 -0.284531  0.054817  1.226642 -0.618954  2.045381  \n",
       "4  1.361992 -0.281927  1.313897 -1.390236  0.067228 -3.350111  \n",
       "\n",
       "[5 rows x 258 columns]"
      ]
     },
     "execution_count": 13,
     "metadata": {},
     "output_type": "execute_result"
    }
   ],
   "source": [
    "ebd_left_CINGULATE = pd.read_csv('/volatile/ad279118/2023_jlaval_STSbabies/contrastive/notebooks/antoine/MOStest/residualized_test/latent_IID_pre_residualized.csv', sep='\\t')\n",
    "#print(ebd_left_CINGULATE.head())\n",
    "print(ebd_left_CINGULATE.shape)\n",
    "ebd_left_CINGULATE.head()"
   ]
  },
  {
   "cell_type": "code",
   "execution_count": 14,
   "metadata": {},
   "outputs": [
    {
     "name": "stdout",
     "output_type": "stream",
     "text": [
      "       FID      IID   Age  Cheadle  Sex      PC01      PC02      PC03  \\\n",
      "0  1913249  1000021  73.0        1    1  2.358986  1.036363 -0.529826   \n",
      "1  2054263  1000458  76.0        1    0 -0.854702  1.861525  1.352201   \n",
      "2  2271224  1000575  61.0        0    1  2.181433 -0.001218 -2.657018   \n",
      "3  3340590  1000606  57.0        1    1 -1.120571 -2.175875 -2.156875   \n",
      "4  3308682  1000963  57.0        0    0 -1.882943 -0.625434  0.067552   \n",
      "\n",
      "       PC04      PC05      PC06      PC07      PC08      PC09      PC10  \\\n",
      "0  0.646537 -2.274064 -2.664317  1.810421  1.181812  0.718989 -0.560832   \n",
      "1 -2.895730  0.856897 -1.994685  2.132624  0.767380 -1.252746  2.485795   \n",
      "2 -2.552692  1.835070  2.174258 -2.084020 -1.771860  0.699605 -1.636098   \n",
      "3 -2.377272 -2.777382 -1.435042 -2.218442 -0.506159  1.089905 -0.009648   \n",
      "4  1.607302  2.985516 -2.003701 -2.807870 -2.915292 -2.493398 -1.257889   \n",
      "\n",
      "   BrainVolumeFreeSurfer_mm3  \n",
      "0               1.044398e+06  \n",
      "1               1.546603e+06  \n",
      "2               1.336933e+06  \n",
      "3               1.911444e+06  \n",
      "4               1.246957e+06  \n",
      "(21045, 16)\n"
     ]
    }
   ],
   "source": [
    "covar_file = pd.read_csv('/volatile/ad279118/2023_jlaval_STSbabies/contrastive/notebooks/antoine/MOStest/residualized_test/random_cov.csv', sep='\\t')\n",
    "print(covar_file.head())\n",
    "print(covar_file.shape)"
   ]
  },
  {
   "cell_type": "code",
   "execution_count": 15,
   "metadata": {},
   "outputs": [
    {
     "name": "stdout",
     "output_type": "stream",
     "text": [
      "(21045, 273)\n",
      "\n"
     ]
    },
    {
     "data": {
      "text/html": [
       "<div>\n",
       "<style scoped>\n",
       "    .dataframe tbody tr th:only-of-type {\n",
       "        vertical-align: middle;\n",
       "    }\n",
       "\n",
       "    .dataframe tbody tr th {\n",
       "        vertical-align: top;\n",
       "    }\n",
       "\n",
       "    .dataframe thead th {\n",
       "        text-align: right;\n",
       "    }\n",
       "</style>\n",
       "<table border=\"1\" class=\"dataframe\">\n",
       "  <thead>\n",
       "    <tr style=\"text-align: right;\">\n",
       "      <th></th>\n",
       "      <th>FID_x</th>\n",
       "      <th>IID</th>\n",
       "      <th>dim1</th>\n",
       "      <th>dim2</th>\n",
       "      <th>dim3</th>\n",
       "      <th>dim4</th>\n",
       "      <th>dim5</th>\n",
       "      <th>dim6</th>\n",
       "      <th>dim7</th>\n",
       "      <th>dim8</th>\n",
       "      <th>...</th>\n",
       "      <th>PC02</th>\n",
       "      <th>PC03</th>\n",
       "      <th>PC04</th>\n",
       "      <th>PC05</th>\n",
       "      <th>PC06</th>\n",
       "      <th>PC07</th>\n",
       "      <th>PC08</th>\n",
       "      <th>PC09</th>\n",
       "      <th>PC10</th>\n",
       "      <th>BrainVolumeFreeSurfer_mm3</th>\n",
       "    </tr>\n",
       "  </thead>\n",
       "  <tbody>\n",
       "    <tr>\n",
       "      <th>0</th>\n",
       "      <td>1913249</td>\n",
       "      <td>1000021</td>\n",
       "      <td>0.017629</td>\n",
       "      <td>1.079423</td>\n",
       "      <td>0.124071</td>\n",
       "      <td>0.633736</td>\n",
       "      <td>-0.924202</td>\n",
       "      <td>1.117974</td>\n",
       "      <td>1.536370</td>\n",
       "      <td>-0.561391</td>\n",
       "      <td>...</td>\n",
       "      <td>1.036363</td>\n",
       "      <td>-0.529826</td>\n",
       "      <td>0.646537</td>\n",
       "      <td>-2.274064</td>\n",
       "      <td>-2.664317</td>\n",
       "      <td>1.810421</td>\n",
       "      <td>1.181812</td>\n",
       "      <td>0.718989</td>\n",
       "      <td>-0.560832</td>\n",
       "      <td>1.044398e+06</td>\n",
       "    </tr>\n",
       "    <tr>\n",
       "      <th>1</th>\n",
       "      <td>2054263</td>\n",
       "      <td>1000458</td>\n",
       "      <td>0.340064</td>\n",
       "      <td>-0.940574</td>\n",
       "      <td>0.044680</td>\n",
       "      <td>0.559023</td>\n",
       "      <td>0.259933</td>\n",
       "      <td>0.484896</td>\n",
       "      <td>-1.528279</td>\n",
       "      <td>1.451338</td>\n",
       "      <td>...</td>\n",
       "      <td>1.861525</td>\n",
       "      <td>1.352201</td>\n",
       "      <td>-2.895730</td>\n",
       "      <td>0.856897</td>\n",
       "      <td>-1.994685</td>\n",
       "      <td>2.132624</td>\n",
       "      <td>0.767380</td>\n",
       "      <td>-1.252746</td>\n",
       "      <td>2.485795</td>\n",
       "      <td>1.546603e+06</td>\n",
       "    </tr>\n",
       "    <tr>\n",
       "      <th>2</th>\n",
       "      <td>2271224</td>\n",
       "      <td>1000575</td>\n",
       "      <td>0.408809</td>\n",
       "      <td>-0.089689</td>\n",
       "      <td>-0.579049</td>\n",
       "      <td>-0.617080</td>\n",
       "      <td>0.839332</td>\n",
       "      <td>-0.334768</td>\n",
       "      <td>-0.045515</td>\n",
       "      <td>-1.266269</td>\n",
       "      <td>...</td>\n",
       "      <td>-0.001218</td>\n",
       "      <td>-2.657018</td>\n",
       "      <td>-2.552692</td>\n",
       "      <td>1.835070</td>\n",
       "      <td>2.174258</td>\n",
       "      <td>-2.084020</td>\n",
       "      <td>-1.771860</td>\n",
       "      <td>0.699605</td>\n",
       "      <td>-1.636098</td>\n",
       "      <td>1.336933e+06</td>\n",
       "    </tr>\n",
       "    <tr>\n",
       "      <th>3</th>\n",
       "      <td>3340590</td>\n",
       "      <td>1000606</td>\n",
       "      <td>-0.112676</td>\n",
       "      <td>0.371406</td>\n",
       "      <td>-1.067555</td>\n",
       "      <td>0.739919</td>\n",
       "      <td>1.609388</td>\n",
       "      <td>-1.152458</td>\n",
       "      <td>3.522402</td>\n",
       "      <td>-0.635775</td>\n",
       "      <td>...</td>\n",
       "      <td>-2.175875</td>\n",
       "      <td>-2.156875</td>\n",
       "      <td>-2.377272</td>\n",
       "      <td>-2.777382</td>\n",
       "      <td>-1.435042</td>\n",
       "      <td>-2.218442</td>\n",
       "      <td>-0.506159</td>\n",
       "      <td>1.089905</td>\n",
       "      <td>-0.009648</td>\n",
       "      <td>1.911444e+06</td>\n",
       "    </tr>\n",
       "    <tr>\n",
       "      <th>4</th>\n",
       "      <td>3308682</td>\n",
       "      <td>1000963</td>\n",
       "      <td>-1.062096</td>\n",
       "      <td>-1.573062</td>\n",
       "      <td>0.505091</td>\n",
       "      <td>0.915293</td>\n",
       "      <td>-0.343094</td>\n",
       "      <td>1.306031</td>\n",
       "      <td>-1.225884</td>\n",
       "      <td>1.637412</td>\n",
       "      <td>...</td>\n",
       "      <td>-0.625434</td>\n",
       "      <td>0.067552</td>\n",
       "      <td>1.607302</td>\n",
       "      <td>2.985516</td>\n",
       "      <td>-2.003701</td>\n",
       "      <td>-2.807870</td>\n",
       "      <td>-2.915292</td>\n",
       "      <td>-2.493398</td>\n",
       "      <td>-1.257889</td>\n",
       "      <td>1.246957e+06</td>\n",
       "    </tr>\n",
       "  </tbody>\n",
       "</table>\n",
       "<p>5 rows × 273 columns</p>\n",
       "</div>"
      ],
      "text/plain": [
       "     FID_x      IID      dim1      dim2      dim3      dim4      dim5  \\\n",
       "0  1913249  1000021  0.017629  1.079423  0.124071  0.633736 -0.924202   \n",
       "1  2054263  1000458  0.340064 -0.940574  0.044680  0.559023  0.259933   \n",
       "2  2271224  1000575  0.408809 -0.089689 -0.579049 -0.617080  0.839332   \n",
       "3  3340590  1000606 -0.112676  0.371406 -1.067555  0.739919  1.609388   \n",
       "4  3308682  1000963 -1.062096 -1.573062  0.505091  0.915293 -0.343094   \n",
       "\n",
       "       dim6      dim7      dim8  ...      PC02      PC03      PC04      PC05  \\\n",
       "0  1.117974  1.536370 -0.561391  ...  1.036363 -0.529826  0.646537 -2.274064   \n",
       "1  0.484896 -1.528279  1.451338  ...  1.861525  1.352201 -2.895730  0.856897   \n",
       "2 -0.334768 -0.045515 -1.266269  ... -0.001218 -2.657018 -2.552692  1.835070   \n",
       "3 -1.152458  3.522402 -0.635775  ... -2.175875 -2.156875 -2.377272 -2.777382   \n",
       "4  1.306031 -1.225884  1.637412  ... -0.625434  0.067552  1.607302  2.985516   \n",
       "\n",
       "       PC06      PC07      PC08      PC09      PC10  BrainVolumeFreeSurfer_mm3  \n",
       "0 -2.664317  1.810421  1.181812  0.718989 -0.560832               1.044398e+06  \n",
       "1 -1.994685  2.132624  0.767380 -1.252746  2.485795               1.546603e+06  \n",
       "2  2.174258 -2.084020 -1.771860  0.699605 -1.636098               1.336933e+06  \n",
       "3 -1.435042 -2.218442 -0.506159  1.089905 -0.009648               1.911444e+06  \n",
       "4 -2.003701 -2.807870 -2.915292 -2.493398 -1.257889               1.246957e+06  \n",
       "\n",
       "[5 rows x 273 columns]"
      ]
     },
     "execution_count": 15,
     "metadata": {},
     "output_type": "execute_result"
    }
   ],
   "source": [
    "merged_data = pd.merge(left=ebd_left_CINGULATE, right=covar_file, how='inner', on='IID')\n",
    "\n",
    "print(merged_data.shape)\n",
    "print()\n",
    "\n",
    "merged_data.head()"
   ]
  },
  {
   "cell_type": "code",
   "execution_count": 16,
   "metadata": {},
   "outputs": [
    {
     "data": {
      "text/plain": [
       "<AxesSubplot:>"
      ]
     },
     "execution_count": 16,
     "metadata": {},
     "output_type": "execute_result"
    },
    {
     "data": {
      "image/png": "[encoded data removed]",
      "text/plain": [
       "<Figure size 792x648 with 2 Axes>"
      ]
     },
     "metadata": {},
     "output_type": "display_data"
    }
   ],
   "source": [
    "# Define the covariates\n",
    "list_cov = ['Sex', 'Age', 'BrainVolumeFreeSurfer_mm3', 'Cheadle']#, 'isBigBrain', 'isOld']\n",
    "\n",
    "sns.set_theme(style=\"white\")\n",
    "\n",
    "# Compute the correlation matrix\n",
    "corr = merged_data[['dim6']+list_cov].corr()\n",
    "\n",
    "# Generate a mask for the upper triangle\n",
    "mask = np.triu(np.ones_like(corr, dtype=bool))\n",
    "\n",
    "\n",
    "f, ax = plt.subplots(figsize=(11, 9))\n",
    "cmap = sns.diverging_palette(230, 20, as_cmap=True)\n",
    "sns.heatmap(corr, mask=mask, cmap=cmap, \n",
    "            #vmin=-0.5, vmax=0.5, \n",
    "            center=0,\n",
    "            square=True, linewidths=.5, cbar_kws={\"shrink\": .5})"
   ]
  },
  {
   "cell_type": "code",
   "execution_count": 18,
   "metadata": {},
   "outputs": [
    {
     "data": {
      "text/plain": [
       "Sex                          0.001927\n",
       "Age                          0.002162\n",
       "BrainVolumeFreeSurfer_mm3    0.002320\n",
       "Cheadle                      0.002146\n",
       "dtype: float64"
      ]
     },
     "execution_count": 18,
     "metadata": {},
     "output_type": "execute_result"
    }
   ],
   "source": [
    "# Define the phenotype column\n",
    "phenotype_col = [f'dim{i}' for i in range(1,257)]\n",
    "corr = merged_data.corr()\n",
    "abs(corr.loc[list_cov][phenotype_col]).max(axis=1)"
   ]
  },
  {
   "cell_type": "code",
   "execution_count": 24,
   "metadata": {},
   "outputs": [],
   "source": [
    "for col in phenotype_col:\n",
    "    # Fit the linear model\n",
    "    X = merged_data[list_cov]\n",
    "    X = sm.add_constant(X)  # Adds a constant term to the predictor\n",
    "    y = merged_data[col]\n",
    "    model = sm.OLS(y, X, missing='drop').fit()\n",
    "\n",
    "    # Get the intercept and residuals\n",
    "    #intercept = model.params.loc['const']\n",
    "    residuals = model.resid\n",
    "\n",
    "    # Update the phenotype column with the pre-residualized values\n",
    "    # In fact, the intercept is not usefull because of the normalization which will follow\n",
    "    merged_data[col] = residuals"
   ]
  },
  {
   "cell_type": "code",
   "execution_count": 9,
   "metadata": {},
   "outputs": [
    {
     "data": {
      "text/plain": [
       "<AxesSubplot:>"
      ]
     },
     "execution_count": 9,
     "metadata": {},
     "output_type": "execute_result"
    },
    {
     "data": {
      "image/png": "[encoded data removed]",
      "text/plain": [
       "<Figure size 792x648 with 2 Axes>"
      ]
     },
     "metadata": {},
     "output_type": "display_data"
    }
   ],
   "source": [
    "corr = merged_data[['dim2']+list_cov].corr()\n",
    "\n",
    "mask = np.triu(np.ones_like(corr, dtype=bool))\n",
    "\n",
    "# Set up the matplotlib figure\n",
    "f, ax = plt.subplots(figsize=(11, 9))\n",
    "cmap = sns.diverging_palette(230, 20, as_cmap=True)\n",
    "sns.heatmap(corr, mask=mask, cmap=cmap, vmax=.3, center=0,\n",
    "            square=True, linewidths=.5, cbar_kws={\"shrink\": .5})"
   ]
  },
  {
   "cell_type": "code",
   "execution_count": 10,
   "metadata": {},
   "outputs": [],
   "source": [
    "corr = merged_data.corr()"
   ]
  },
  {
   "cell_type": "code",
   "execution_count": 11,
   "metadata": {},
   "outputs": [
    {
     "data": {
      "text/plain": [
       "Sex                          4.580384e-12\n",
       "Age                          2.393808e-13\n",
       "BrainVolumeFreeSurfer_mm3    3.485287e-12\n",
       "Cheadle                      1.289133e-13\n",
       "Newcastle                    1.288066e-13\n",
       "dtype: float64"
      ]
     },
     "execution_count": 11,
     "metadata": {},
     "output_type": "execute_result"
    }
   ],
   "source": [
    "abs(corr.loc[list_cov][phenotype_col]).max(axis=1)"
   ]
  },
  {
   "cell_type": "code",
   "execution_count": 15,
   "metadata": {},
   "outputs": [
    {
     "data": {
      "text/plain": [
       "<AxesSubplot:>"
      ]
     },
     "execution_count": 15,
     "metadata": {},
     "output_type": "execute_result"
    },
    {
     "data": {
      "image/png": "[encoded data removed]",
      "text/plain": [
       "<Figure size 432x288 with 1 Axes>"
      ]
     },
     "metadata": {},
     "output_type": "display_data"
    }
   ],
   "source": [
    "dim_example='dim7'\n",
    "merged_data[dim_example].hist(density=True)"
   ]
  },
  {
   "cell_type": "code",
   "execution_count": 16,
   "metadata": {},
   "outputs": [
    {
     "data": {
      "image/png": "[encoded data removed]",
      "text/plain": [
       "<Figure size 432x288 with 1 Axes>"
      ]
     },
     "metadata": {},
     "output_type": "display_data"
    }
   ],
   "source": [
    "for dim_i in phenotype_col:\n",
    "    # Calculate the ECDF values for 'dim_i'\n",
    "    ecdf_values = merged_data[dim_i].rank(method='average') / len(merged_data[dim_i])\n",
    "\n",
    "    # Apply the quantile function of the normal distribution\n",
    "    qnorm_values = norm.ppf(ecdf_values - 0.5 / len(merged_data[dim_i]))\n",
    "\n",
    "    # Assign the transformed values back to 'dim_i'\n",
    "    merged_data[dim_i] = qnorm_values\n",
    "\n",
    "# Plot the histogram of the transformed 'dim_i'\n",
    "merged_data[dim_example].hist(density=True)\n",
    "plt.xlabel(dim_example)\n",
    "plt.ylabel('Density')\n",
    "plt.title('Histogram of Transformed dim4')\n",
    "plt.show()"
   ]
  }
 ],
 "metadata": {
  "kernelspec": {
   "display_name": "venv",
   "language": "python",
   "name": "python3"
  },
  "language_info": {
   "codemirror_mode": {
    "name": "ipython",
    "version": 3
   },
   "file_extension": ".py",
   "mimetype": "text/x-python",
   "name": "python",
   "nbconvert_exporter": "python",
   "pygments_lexer": "ipython3",
   "version": "3.10.12"
  }
 },
 "nbformat": 4,
 "nbformat_minor": 2
}
