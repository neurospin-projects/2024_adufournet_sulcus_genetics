{
 "cells": [
  {
   "cell_type": "code",
   "execution_count": 1,
   "metadata": {},
   "outputs": [
    {
     "name": "stderr",
     "output_type": "stream",
     "text": [
      "/usr/lib/python3/dist-packages/scipy/__init__.py:146: UserWarning: A NumPy version >=1.17.3 and <1.25.0 is required for this version of SciPy (detected version 1.26.4\n",
      "  warnings.warn(f\"A NumPy version >={np_minversion} and <{np_maxversion}\"\n",
      "existing QApplication: 0\n",
      "QStandardPaths: XDG_RUNTIME_DIR not set, defaulting to '/tmp/runtime-ad279118'\n"
     ]
    },
    {
     "name": "stdout",
     "output_type": "stream",
     "text": [
      "create qapp\n",
      "global modules: /casa/host/build/share/anatomist-5.2/python_plugins\n",
      "home   modules: /casa/home/.anatomist/python_plugins\n",
      "done\n",
      "Starting Anatomist.....\n",
      "config file : /casa/home/.anatomist/config/settings.cfg\n",
      "PyAnatomist Module present\n",
      "PythonLauncher::runModules()\n",
      "loading module simple_controls\n",
      "loading module save_resampled\n",
      "loading module selection\n",
      "loading module bsa_proba\n",
      "loading module modelGraphs\n",
      "loading module profilewindow\n",
      "loading module ana_image_math\n",
      "loading module paletteViewer\n",
      "loading module foldsplit\n",
      "loading module anacontrolmenu\n",
      "loading module gradientpalette\n",
      "loading module palettecontrols\n",
      "loading module meshsplit\n",
      "loading module volumepalettes\n",
      "loading module gltf_io\n",
      "loading module infowindow\n",
      "loading module histogram\n",
      "loading module statsplotwindow\n",
      "loading module valuesplotwindow\n",
      "all python modules loaded\n",
      "Anatomist started.\n"
     ]
    }
   ],
   "source": [
    "import anatomist.api as ana\n",
    "from soma.qt_gui.qtThread import QtThreadCall\n",
    "from soma.qt_gui.qt_backend import Qt\n",
    "\n",
    "a = ana.Anatomist()\n",
    "\n",
    "from soma import aims\n",
    "import numpy as np"
   ]
  },
  {
   "cell_type": "code",
   "execution_count": 2,
   "metadata": {},
   "outputs": [
    {
     "name": "stdout",
     "output_type": "stream",
     "text": [
      "Multitexturing present\n",
      "function glActiveTexture found.\n",
      "function glClientActiveTexture found.\n",
      "function glBlendEquation found.\n",
      "function glTexImage3D found.\n",
      "function glMultiTexCoord3f found.\n",
      "function glBindFramebuffer found.\n",
      "function glBindRenderbuffer found.\n",
      "function glFramebufferTexture2D found.\n",
      "function glGenFramebuffers found.\n",
      "function glGenRenderbuffers found.\n",
      "function glFramebufferRenderbuffer found.\n",
      "function glRenderbufferStorage found.\n",
      "function glCheckFramebufferStatus found.\n",
      "function glDeleteRenderbuffers found.\n",
      "function glDeleteFramebuffers found.\n",
      "Number of texture units: 8\n",
      "function glUniform1f found.\n",
      "function glUniform1i found.\n",
      "function glUniform4fv found.\n",
      "function glGetUniformLocation found.\n",
      "function glMultTransposeMatrixf found.\n",
      "function glAttachShader found.\n",
      "function glDetachShader found.\n",
      "function glCompileShader found.\n",
      "function glCreateProgram found.\n",
      "function glCreateShader found.\n",
      "function glDeleteProgram found.\n",
      "function glDeleteShader found.\n",
      "function glGetProgramiv found.\n",
      "function glGetShaderiv found.\n",
      "function glLinkProgram found.\n",
      "function glShaderSource found.\n",
      "function glUseProgram found.\n",
      "GL_ARB_shadow present\n",
      "GL_SGIX_shadow extension not available\n",
      "GL_SGIX_depth_texture extension not available\n",
      "GL_ARB_depth_texture extension present\n",
      "GL_ARB_texture_cube_map extension present\n",
      "GL_EXT_texture_cube_map extension present\n",
      "Number of texture units: 8\n",
      "memory limit: 43897248153\n",
      "Reading FGraph version 3.1\n",
      "bounding box found : 34, 30, 59\n",
      "                     135, 266, 225\n",
      "memory limit: 43868304179\n",
      "Reading FGraph version 3.1\n",
      "bounding box found : 116, 31, 61\n",
      "                     220, 269, 223\n"
     ]
    },
    {
     "name": "stdout",
     "output_type": "stream",
     "text": [
      "Position : 62.718, 32.7721, 105.597, 0\n",
      "no position could be read at 230, 342\n",
      "Position : 122.026, 162.632, 85.873, 0\n",
      "no position could be read at 538, 61\n",
      "Position : 121.798, 124.132, 123.418, 0\n",
      "Position : 121.798, 140.434, 95.93, 0\n"
     ]
    },
    {
     "name": "stderr",
     "output_type": "stream",
     "text": [
      "QLayout: Attempting to add QLayout \"\" to QWidget \"\", which already has a layout\n"
     ]
    },
    {
     "ename": "",
     "evalue": "",
     "output_type": "error",
     "traceback": [
      "\u001b[1;31mThe Kernel crashed while executing code in the current cell or a previous cell. \n",
      "\u001b[1;31mPlease review the code in the cell(s) to identify a possible cause of the failure. \n",
      "\u001b[1;31mClick <a href='https://aka.ms/vscodeJupyterKernelCrash'>here</a> for more info. \n",
      "\u001b[1;31mView Jupyter <a href='command:jupyter.viewOutput'>log</a> for further details."
     ]
    }
   ],
   "source": [
    "subject = \"197550\"\n",
    "side = \"R\"\n",
    "region = \"ORBITAL\" #\"CINGULATE\"\n",
    "\n",
    "path_to_t1mri = f'/neurospin/dico/data/bv_databases/human/not_labeled/hcp/hcp/{subject}/t1mri/BL'\n",
    "\n",
    "t1mri = a.loadObject(f'{path_to_t1mri}/{subject}.nii.gz') # why t1 ?\n",
    "t1mri.loadReferentialFromHeader()\n",
    "\n",
    "if True:\n",
    "    # view an object in a 4 views block\n",
    "    block = a.createWindowsBlock(2) # 2 columns\n",
    "    w1 = a.createWindow(\"Axial\", block=block)\n",
    "    w2 = a.createWindow(\"Sagittal\", block=block)\n",
    "    w3 = a.createWindow(\"Coronal\", block=block)\n",
    "    w4 = a.createWindow(\"3D\", block=block)\n",
    "    t1mri.addInWindows([w1, w2, w3, w4])\n",
    "    \n",
    "    # Load an object\n",
    "    Rwhite = a.loadObject(f'{path_to_t1mri}/default_analysis/segmentation/mesh/{subject}_Rwhite.gii')\n",
    "    Lwhite = a.loadObject(f'{path_to_t1mri}/default_analysis/segmentation/mesh/{subject}_Lwhite.gii')\n",
    "    Rwhite.loadReferentialFromHeader()\n",
    "    Lwhite.loadReferentialFromHeader()\n",
    "\n",
    "\n",
    "    w4.addObjects(Rwhite)\n",
    "    w4.addObjects(Lwhite)\n",
    "\n",
    "    Rsulci = a.loadObject(f'{path_to_t1mri}/default_analysis/folds/3.1/R{subject}.arg')\n",
    "    Lsulci = a.loadObject(f'{path_to_t1mri}/default_analysis/folds/3.1/L{subject}.arg')\n",
    "    Rsulci.loadReferentialFromHeader()\n",
    "    Lsulci.loadReferentialFromHeader()\n",
    "\n",
    "\n",
    "    #w3d.addObjects(Rsulci)\n",
    "    #w3d.addObjects(Lsulci)\n",
    "\n",
    "    w4.addObjects(Rsulci)\n",
    "    w4.addObjects(Lsulci)\n"
   ]
  },
  {
   "cell_type": "code",
   "execution_count": 4,
   "metadata": {},
   "outputs": [
    {
     "name": "stdout",
     "output_type": "stream",
     "text": [
      "memory limit: 41992165785\n",
      "Reading FGraph version 3.1\n",
      "bounding box found : 32, 29, 57\n",
      "                     132, 273, 226\n",
      "memory limit: 41979147059\n",
      "Reading FGraph version 3.1\n",
      "bounding box found : 39, 27, 56\n",
      "                     140, 277, 221\n",
      "memory limit: 41968900505\n",
      "Reading FGraph version 3.1\n",
      "bounding box found : 27, 31, 52\n",
      "                     134, 272, 224\n",
      "memory limit: 41994587340\n",
      "Reading FGraph version 3.1\n",
      "bounding box found : 33, 29, 63\n",
      "                     135, 268, 223\n",
      "memory limit: 41984252313\n",
      "Reading FGraph version 3.1\n",
      "bounding box found : 32, 37, 57\n",
      "                     136, 275, 221\n",
      "memory limit: 41974123724\n",
      "Reading FGraph version 3.1\n",
      "bounding box found : 30, 30, 56\n",
      "                     135, 266, 226\n",
      "memory limit: 41995580211\n",
      "Reading FGraph version 3.1\n",
      "bounding box found : 32, 35, 50\n",
      "                     133, 282, 212\n",
      "memory limit: 41966623129\n",
      "Reading FGraph version 3.1\n",
      "bounding box found : 30, 16, 45\n",
      "                     134, 284, 222\n",
      "memory limit: 41965115801\n",
      "Reading FGraph version 3.1\n",
      "bounding box found : 29, 23, 49\n",
      "                     140, 283, 222\n",
      "memory limit: 41946477363\n",
      "Reading FGraph version 3.1\n",
      "bounding box found : 30, 24, 52\n",
      "                     133, 279, 225\n"
     ]
    },
    {
     "name": "stdout",
     "output_type": "stream",
     "text": [
      "no position could be read at 392, 75\n",
      "Position : -41.778, 23.1316, 31.3673, 0\n",
      "Position : -29.1277, -17.3845, 38.4131, 0\n",
      "Position : -30.7296, 6.75133, 37.2299, 0\n",
      "control RefTransControl not found\n"
     ]
    },
    {
     "name": "stderr",
     "output_type": "stream",
     "text": [
      "QLayout: Attempting to add QLayout \"\" to QWidget \"\", which already has a layout\n"
     ]
    },
    {
     "ename": "",
     "evalue": "",
     "output_type": "error",
     "traceback": [
      "\u001b[1;31mThe Kernel crashed while executing code in the current cell or a previous cell. \n",
      "\u001b[1;31mPlease review the code in the cell(s) to identify a possible cause of the failure. \n",
      "\u001b[1;31mClick <a href='https://aka.ms/vscodeJupyterKernelCrash'>here</a> for more info. \n",
      "\u001b[1;31mView Jupyter <a href='command:jupyter.viewOutput'>log</a> for further details."
     ]
    }
   ],
   "source": [
    "list_subjects = [499566, 480141, 112314, 199453, 151223, 211114, 592455, 584355, 857263, 213421]\n",
    "block = a.createWindowsBlock(5) # 5 columns\n",
    "dic_windows = {}\n",
    "\n",
    "for subject in list_subjects:\n",
    "    path_to_t1mri = f'/neurospin/dico/data/bv_databases/human/not_labeled/hcp/hcp/{subject}/t1mri/BL'\n",
    "    dic_windows[f'w{subject}'] = a.createWindow(\"3D\", block=block)\n",
    "\n",
    "    dic_windows[f'white_{subject}'] = a.loadObject(f'{path_to_t1mri}/default_analysis/segmentation/mesh/{subject}_{side}white.gii')\n",
    "    dic_windows[f'white_{subject}'].loadReferentialFromHeader()\n",
    "\n",
    "    dic_windows[f'sulci_{subject}'] = a.loadObject(f'{path_to_t1mri}/default_analysis/folds/3.1/{side}{subject}.arg')\n",
    "    dic_windows[f'sulci_{subject}'].loadReferentialFromHeader()\n",
    "\n",
    "    dic_windows[f'w{subject}'].addObjects([dic_windows[f'white_{subject}'], dic_windows[f'sulci_{subject}']])\n"
   ]
  },
  {
   "cell_type": "code",
   "execution_count": 6,
   "metadata": {},
   "outputs": [
    {
     "name": "stdout",
     "output_type": "stream",
     "text": [
      "no position could be read at 803, 264\n",
      "Position : 15.0632, 24.5036, 35.0262, 0\n",
      "Position : 15.0632, 24.5036, 35.0262, 0\n",
      "Position : 15.5963, 58.9049, 15.7089, 0\n",
      "Position : 22.9938, 63.2998, -39.722, 0\n",
      "Position : 39.0199, 47.6079, -52.6589, 0\n",
      "Position : 41.905, 36.2045, -41.784, 0\n",
      "Position : 47.2523, -0.357102, 8.27809, 0\n",
      "Position : 49.2441, 28.4363, -48.2845, 0\n",
      "Position : 54.7743, 26.1371, -14.4379, 0\n",
      "no position could be read at 384, 546\n",
      "no position could be read at 397, 532\n",
      "Position : 52.1196, 69.7192, -7.23498, 0\n",
      "no position could be read at 1909, 471\n",
      "no position could be read at 1981, 565\n",
      "Position : 10.5449, -25.1674, -32.9785, 0\n",
      "Position : 11.4739, 7.18033, -46.0167, 0\n",
      "Position : 8.87992, -45.6259, -42.5859, 0\n",
      "Position : 39.9793, -8.86231, -9.71563, 0\n",
      "no position could be read at 1690, 725\n",
      "no position could be read at 1868, 750\n",
      "Position : 21.4154, 21.6317, -51.2692, 0\n",
      "Position : 46.7795, 8.11529, -41.5181, 0\n",
      "no position could be read at 2021, 473\n",
      "Position : 30.8945, -11.4961, -47.1694, 0\n",
      "Position : 45.9895, 62.1117, -40.4467, 0\n",
      "Position : 25.4429, 42.5663, -39.6807, 0\n",
      "Position : 47.9883, 17.9392, -49.9771, 0\n"
     ]
    },
    {
     "ename": "",
     "evalue": "",
     "output_type": "error",
     "traceback": [
      "\u001b[1;31mThe Kernel crashed while executing code in the current cell or a previous cell. \n",
      "\u001b[1;31mPlease review the code in the cell(s) to identify a possible cause of the failure. \n",
      "\u001b[1;31mClick <a href='https://aka.ms/vscodeJupyterKernelCrash'>here</a> for more info. \n",
      "\u001b[1;31mView Jupyter <a href='command:jupyter.viewOutput'>log</a> for further details."
     ]
    }
   ],
   "source": [
    "from soma import aims\n",
    "\n",
    "def to_bucket(obj):\n",
    "    if obj.type() == obj.BUCKET:\n",
    "        return obj\n",
    "    avol = a.toAimsObject(obj)\n",
    "    c = aims.Converter(intype=avol, outtype=aims.BucketMap_VOID)\n",
    "    abck = c(avol)\n",
    "    bck = a.toAObject(abck)\n",
    "    bck.releaseAppRef()\n",
    "    return bck\n",
    "\n",
    "id = \"197550\"\n",
    "windoforcrop = a.createWindow(\"3D\")\n",
    "mm_skeleton_path = f\"/neurospin/dico/data/deep_folding/current/datasets/hcp/crops/2mm/CINGULATE/mask/Rcrops/{id}_cropped_skeleton.nii.gz\"\n",
    "\n",
    "cropi = to_bucket(a.loadObject(mm_skeleton_path))\n",
    "windoforcrop.addObjects(cropi)"
   ]
  },
  {
   "cell_type": "code",
   "execution_count": 4,
   "metadata": {},
   "outputs": [],
   "source": [
    "def crop_mask(file_src, file_cropped, mask):\n",
    "    \"\"\"Crops according to mask\"\"\"\n",
    "    volume = aims.read(file_src)\n",
    "    print(np.count_nonzero(volume.np))\n",
    "    if mask:\n",
    "        mask = aims.read(mask)\n",
    "        arr = volume.np\n",
    "        arr_mask = np.asarray(mask)\n",
    "        arr[arr_mask == 0] = 0\n",
    "        print(np.count_nonzero(volume.np))\n",
    "    aims.write(volume, file_cropped)"
   ]
  },
  {
   "cell_type": "markdown",
   "metadata": {},
   "source": [
    "To prepare te files for the convert_volume_to_bucket for a given brain region"
   ]
  },
  {
   "cell_type": "code",
   "execution_count": 6,
   "metadata": {},
   "outputs": [
    {
     "name": "stdout",
     "output_type": "stream",
     "text": [
      "11893\n",
      "661\n"
     ]
    }
   ],
   "source": [
    "mask_path = f'/neurospin/dico/data/deep_folding/current/datasets/hcp/crops/2mm/{region}/mask/{side}mask_skeleton.nii.gz'\n",
    "file_src = f'/neurospin/dico/data/deep_folding/current/datasets/hcp/skeletons/2mm/{side}/{side}resampled_skeleton_{subject}.nii.gz'\n",
    "file_cropped = f'/volatile/ad279118/Figures_report/{subject}_{region}_{side}_cropped_skeleton.nii.gz'\n",
    "crop_mask(file_src, file_cropped, mask_path)"
   ]
  },
  {
   "cell_type": "code",
   "execution_count": 7,
   "metadata": {},
   "outputs": [
    {
     "data": {
      "text/plain": [
       "'/neurospin/dico/data/deep_folding/current/datasets/hcp/skeletons/2mm/L/Lresampled_skeleton_213421.nii.gz'"
      ]
     },
     "execution_count": 7,
     "metadata": {},
     "output_type": "execute_result"
    }
   ],
   "source": [
    "file_src"
   ]
  },
  {
   "cell_type": "markdown",
   "metadata": {},
   "source": [
    "To do prepare the file to get the buckets for all sulci for on hemisphere for one subject"
   ]
  },
  {
   "cell_type": "code",
   "execution_count": 8,
   "metadata": {},
   "outputs": [
    {
     "name": "stdout",
     "output_type": "stream",
     "text": [
      "11893\n"
     ]
    }
   ],
   "source": [
    "mask_path = False\n",
    "file_src = f'/neurospin/dico/data/deep_folding/current/datasets/hcp/skeletons/2mm/{side}/{side}resampled_skeleton_{subject}.nii.gz'\n",
    "file_cropped = f'/volatile/ad279118/Figures_report/{subject}_{side}_skeleton.nii.gz'\n",
    "crop_mask(file_src, file_cropped, mask_path)"
   ]
  },
  {
   "cell_type": "markdown",
   "metadata": {},
   "source": [
    "To do from a terminal with bv bash so as to get the buckets"
   ]
  },
  {
   "cell_type": "code",
   "execution_count": null,
   "metadata": {},
   "outputs": [],
   "source": [
    "\"\"\"\n",
    "cd /volatile/ad279118/deep_folding/deep_folding/brainvisa/utils\n",
    "python3 convert_volume_to_bucket.py -s '/volatile/ad279118/Figures_report' -t '/volatile/ad279118/Figures_report'\n",
    "\"\"\""
   ]
  },
  {
   "cell_type": "markdown",
   "metadata": {},
   "source": [
    "To visualize in the end the region included in the whole brain (sulci point of view)"
   ]
  },
  {
   "cell_type": "code",
   "execution_count": 9,
   "metadata": {},
   "outputs": [
    {
     "name": "stdout",
     "output_type": "stream",
     "text": [
      "Position : 112.817, 67.8447, 59.4708, 0\n"
     ]
    },
    {
     "name": "stderr",
     "output_type": "stream",
     "text": [
      "QLayout: Attempting to add QLayout \"\" to QWidget \"\", which already has a layout\n"
     ]
    },
    {
     "name": "stdout",
     "output_type": "stream",
     "text": [
      "Position : 43.3434, -7.44307, 36.2564, 0\n",
      "no position could be read at 1000, 388\n",
      "no position could be read at 1667, 496\n",
      "no position could be read at 433, 374\n",
      "no position could be read at 952, 733\n",
      "no position could be read at 1871, 308\n",
      "no position could be read at 1466, 21\n",
      "no position could be read at 1517, 413\n",
      "no position could be read at 952, 503\n"
     ]
    },
    {
     "ename": "",
     "evalue": "",
     "output_type": "error",
     "traceback": [
      "\u001b[1;31mThe Kernel crashed while executing code in the current cell or a previous cell. \n",
      "\u001b[1;31mPlease review the code in the cell(s) to identify a possible cause of the failure. \n",
      "\u001b[1;31mClick <a href='https://aka.ms/vscodeJupyterKernelCrash'>here</a> for more info. \n",
      "\u001b[1;31mView Jupyter <a href='command:jupyter.viewOutput'>log</a> for further details."
     ]
    }
   ],
   "source": [
    "w5 = a.createWindow(\"3D\")\n",
    "path_to_bck = f\"/volatile/ad279118/Figures_report/Cropped_files/{subject}_{region}_{side}_cropped_skeleton.bck\"\n",
    "\n",
    "\n",
    "bcks = a.loadObject(path_to_bck)\n",
    "bcks.loadReferentialFromHeader()\n",
    "\n",
    "path_to_source = f\"/volatile/ad279118/Figures_report/Cropped_files/{subject}_{side}_skeleton.bck\"\n",
    "\n",
    "source = a.loadObject(path_to_source)\n",
    "source.loadReferentialFromHeader()\n",
    "\n",
    "#w5.addObjects(Lwhite)\n",
    "#w5.addObjects(Lsulci)\n",
    "w5.addObjects(bcks)\n",
    "w5.addObjects(source)"
   ]
  },
  {
   "cell_type": "code",
   "execution_count": null,
   "metadata": {},
   "outputs": [],
   "source": []
  }
 ],
 "metadata": {
  "kernelspec": {
   "display_name": "venv",
   "language": "python",
   "name": "python3"
  },
  "language_info": {
   "codemirror_mode": {
    "name": "ipython",
    "version": 3
   },
   "file_extension": ".py",
   "mimetype": "text/x-python",
   "name": "python",
   "nbconvert_exporter": "python",
   "pygments_lexer": "ipython3",
   "version": "3.10.12"
  }
 },
 "nbformat": 4,
 "nbformat_minor": 2
}
