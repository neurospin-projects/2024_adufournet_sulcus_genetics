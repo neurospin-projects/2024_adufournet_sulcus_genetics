{
 "cells": [
  {
   "cell_type": "code",
   "execution_count": 1,
   "metadata": {},
   "outputs": [
    {
     "name": "stderr",
     "output_type": "stream",
     "text": [
      "/usr/lib/python3/dist-packages/scipy/__init__.py:146: UserWarning: A NumPy version >=1.17.3 and <1.25.0 is required for this version of SciPy (detected version 1.26.4\n",
      "  warnings.warn(f\"A NumPy version >={np_minversion} and <{np_maxversion}\"\n"
     ]
    },
    {
     "name": "stderr",
     "output_type": "stream",
     "text": [
      "existing QApplication: 0\n",
      "QStandardPaths: XDG_RUNTIME_DIR not set, defaulting to '/tmp/runtime-ad279118'\n"
     ]
    },
    {
     "name": "stdout",
     "output_type": "stream",
     "text": [
      "create qapp\n",
      "done\n",
      "Starting Anatomist.....\n",
      "config file : /casa/home/.anatomist/config/settings.cfg\n",
      "PyAnatomist Module present\n",
      "PythonLauncher::runModules()\n",
      "global modules: /casa/host/build/share/anatomist-5.2/python_plugins\n",
      "home   modules: /casa/home/.anatomist/python_plugins\n",
      "loading module simple_controls\n",
      "loading module save_resampled\n",
      "loading module selection\n",
      "loading module bsa_proba\n",
      "loading module modelGraphs\n",
      "loading module profilewindow\n",
      "loading module ana_image_math\n",
      "loading module paletteViewer\n",
      "loading module foldsplit\n",
      "loading module anacontrolmenu\n",
      "loading module gradientpalette\n",
      "loading module palettecontrols\n",
      "loading module meshsplit\n",
      "loading module volumepalettes\n",
      "loading module gltf_io\n",
      "loading module infowindow\n",
      "loading module histogram\n",
      "loading module statsplotwindow\n",
      "loading module valuesplotwindow\n",
      "all python modules loaded\n",
      "Anatomist started.\n"
     ]
    }
   ],
   "source": [
    "import anatomist.api as ana\n",
    "from soma.qt_gui.qtThread import QtThreadCall\n",
    "from soma.qt_gui.qt_backend import Qt\n",
    "\n",
    "a = ana.Anatomist()\n",
    "\n",
    "from soma import aims\n",
    "import pandas as pd\n",
    "import numpy as np\n",
    "import os"
   ]
  },
  {
   "cell_type": "markdown",
   "metadata": {},
   "source": [
    "#### To visualize specific crops after a projection"
   ]
  },
  {
   "cell_type": "code",
   "execution_count": 27,
   "metadata": {},
   "outputs": [
    {
     "data": {
      "text/plain": [
       "33299"
      ]
     },
     "execution_count": 27,
     "metadata": {},
     "output_type": "execute_result"
    }
   ],
   "source": [
    "dataset = 'UkBioBank40'\n",
    "region = \"CINGULATE.\"\n",
    "side = \"L\"\n",
    "\n",
    "bucket_path = f'/neurospin/dico/data/deep_folding/current/datasets/{dataset}/crops/2mm/{region}/mask/{side}buckets'\n",
    "#sorted_phenotype = pd.read_csv('/volatile/ad279118/Irene/MOSTEST/Results/Imaging_Genetics/25irene_AD_CINGULATE_val/results/ChampollionV0/CINGULATE_left/09-35-58_201/white.British.ancestry/Sorted_projection/regression_on_latent/rs4842267_C_small_distances.csv')\n",
    "sorted_phenotype = pd.read_csv('/volatile/ad279118/Irene/MOSTEST/Results/Imaging_Genetics/25irene_AD_CINGULATE_val/results/ChampollionV0/CINGULATE_left/09-35-58_201/white.British.ancestry/Sorted_projection/regression_on_latent/rs2009778_T.csv')\n",
    "sorted_phenotype.IID = sorted_phenotype['IID'].apply(lambda x : 'sub-'+str(x))\n",
    "list_subjects = sorted_phenotype['IID'].to_list()\n",
    "len(list_subjects)"
   ]
  },
  {
   "cell_type": "code",
   "execution_count": 33,
   "metadata": {},
   "outputs": [],
   "source": [
    "sample = list_subjects[-200:-180]"
   ]
  },
  {
   "cell_type": "code",
   "execution_count": 34,
   "metadata": {},
   "outputs": [],
   "source": [
    "bucket_files = []\n",
    "\n",
    "for subject_id in sample:\n",
    "\n",
    "    filename = f'{bucket_path}/{subject_id}_cropped_skeleton.bck'\n",
    "\n",
    "    if os.path. isfile(filename):\n",
    "        bucket_files.append(filename)\n",
    "    else:\n",
    "        print(f\"{filename} is not a correct path, or the .bck doesn't exist\")\n",
    "bucket_files\n",
    "\n",
    "block = a.createWindowsBlock(6) # 10 columns\n",
    "dic_windows = {}\n",
    "\n",
    "for i, file in enumerate(bucket_files):\n",
    "    dic_windows[f'bck_{i}'] = a.loadObject(file)\n",
    "    dic_windows[f'w_{i}'] = a.createWindow('3D', block=block)#geometry=[100+400*(i%3), 100+440*(i//3), 400, 400])\n",
    "    dic_windows[f'w_{i}'].addObjects(dic_windows[f'bck_{i}'])"
   ]
  },
  {
   "cell_type": "markdown",
   "metadata": {},
   "source": [
    "#### To visualize the white matter for specific people "
   ]
  },
  {
   "cell_type": "code",
   "execution_count": 37,
   "metadata": {},
   "outputs": [
    {
     "name": "stdout",
     "output_type": "stream",
     "text": [
      "nifti transfo: 2\n",
      "memory limit: 20470693888\n"
     ]
    },
    {
     "name": "stdout",
     "output_type": "stream",
     "text": [
      "Reading FGraph version 3.1\n"
     ]
    },
    {
     "name": "stderr",
     "output_type": "stream",
     "text": [
      "Warning: wrong filename_base in graph, trying to fix it\n"
     ]
    },
    {
     "name": "stdout",
     "output_type": "stream",
     "text": [
      "bounding box found : 94, 22, 25\n",
      "                     175, 206, 146\n",
      "nifti transfo: 3\n",
      "nifti transfo: 1\n",
      "memory limit: 20445200384\n",
      "Reading FGraph version 3.1\n"
     ]
    },
    {
     "name": "stderr",
     "output_type": "stream",
     "text": [
      "Warning: wrong filename_base in graph, trying to fix it\n"
     ]
    },
    {
     "name": "stdout",
     "output_type": "stream",
     "text": [
      "bounding box found : 75, 34, 40\n",
      "                     151, 205, 158\n",
      "nifti transfo: 2\n",
      "nifti transfo: 1\n",
      "memory limit: 20472551833\n",
      "Reading FGraph version 3.1\n"
     ]
    },
    {
     "name": "stderr",
     "output_type": "stream",
     "text": [
      "Warning: wrong filename_base in graph, trying to fix it\n"
     ]
    },
    {
     "name": "stdout",
     "output_type": "stream",
     "text": [
      "bounding box found : 80, 30, 45\n",
      "                     150, 202, 152\n",
      "nifti transfo: 2\n",
      "nifti transfo: 2\n",
      "memory limit: 20480209715\n",
      "Reading FGraph version 3.1\n"
     ]
    },
    {
     "name": "stderr",
     "output_type": "stream",
     "text": [
      "Warning: wrong filename_base in graph, trying to fix it\n"
     ]
    },
    {
     "name": "stdout",
     "output_type": "stream",
     "text": [
      "bounding box found : 84, 26, 42\n",
      "                     159, 197, 163\n",
      "nifti transfo: 3\n",
      "nifti transfo: 2\n",
      "memory limit: 20500978073\n",
      "Reading FGraph version 3.1\n"
     ]
    },
    {
     "name": "stderr",
     "output_type": "stream",
     "text": [
      "Warning: wrong filename_base in graph, trying to fix it\n"
     ]
    },
    {
     "name": "stdout",
     "output_type": "stream",
     "text": [
      "bounding box found : 83, 37, 56\n",
      "                     156, 202, 168\n",
      "nifti transfo: 3\n",
      "nifti transfo: 2\n",
      "memory limit: 20504340070\n",
      "Reading FGraph version 3.1\n"
     ]
    },
    {
     "name": "stderr",
     "output_type": "stream",
     "text": [
      "Warning: wrong filename_base in graph, trying to fix it\n"
     ]
    },
    {
     "name": "stdout",
     "output_type": "stream",
     "text": [
      "bounding box found : 82, 27, 40\n",
      "                     155, 199, 157\n",
      "nifti transfo: 3\n",
      "nifti transfo: 1\n",
      "memory limit: 20504913510\n",
      "Reading FGraph version 3.1\n"
     ]
    },
    {
     "name": "stderr",
     "output_type": "stream",
     "text": [
      "Warning: wrong filename_base in graph, trying to fix it\n"
     ]
    },
    {
     "name": "stdout",
     "output_type": "stream",
     "text": [
      "bounding box found : 78, 33, 50\n",
      "                     151, 203, 163\n",
      "nifti transfo: 2\n",
      "nifti transfo: 2\n",
      "memory limit: 20487605452\n",
      "Reading FGraph version 3.1\n"
     ]
    },
    {
     "name": "stderr",
     "output_type": "stream",
     "text": [
      "Warning: wrong filename_base in graph, trying to fix it\n"
     ]
    },
    {
     "name": "stdout",
     "output_type": "stream",
     "text": [
      "bounding box found : 79, 35, 52\n",
      "                     151, 201, 157\n",
      "nifti transfo: 3\n",
      "nifti transfo: 1\n",
      "memory limit: 20492815564\n",
      "Reading FGraph version 3.1\n"
     ]
    },
    {
     "name": "stderr",
     "output_type": "stream",
     "text": [
      "Warning: wrong filename_base in graph, trying to fix it\n"
     ]
    },
    {
     "name": "stdout",
     "output_type": "stream",
     "text": [
      "bounding box found : 70, 32, 39\n",
      "                     139, 197, 147\n",
      "nifti transfo: 2\n",
      "memory limit: 20486727270\n",
      "Reading FGraph version 3.1\n"
     ]
    },
    {
     "name": "stderr",
     "output_type": "stream",
     "text": [
      "Warning: wrong filename_base in graph, trying to fix it\n"
     ]
    },
    {
     "name": "stdout",
     "output_type": "stream",
     "text": [
      "bounding box found : 82, 24, 35\n",
      "                     157, 198, 149\n",
      "nifti transfo: 1\n"
     ]
    },
    {
     "name": "stdout",
     "output_type": "stream",
     "text": [
      "Position : 85.7009, 73.4005, 92.6025, 0\n"
     ]
    },
    {
     "ename": "",
     "evalue": "",
     "output_type": "error",
     "traceback": [
      "\u001b[1;31mThe Kernel crashed while executing code in the current cell or a previous cell. \n",
      "\u001b[1;31mPlease review the code in the cell(s) to identify a possible cause of the failure. \n",
      "\u001b[1;31mClick <a href='https://aka.ms/vscodeJupyterKernelCrash'>here</a> for more info. \n",
      "\u001b[1;31mView Jupyter <a href='command:jupyter.viewOutput'>log</a> for further details."
     ]
    }
   ],
   "source": [
    "'''\n",
    "list_subjects = ['sub-4298822',\n",
    " 'sub-5486947',\n",
    " 'sub-5786451',\n",
    " 'sub-2703317',\n",
    " 'sub-4018527',\n",
    " 'sub-4713688',\n",
    " 'sub-1641251',\n",
    " 'sub-4157001',\n",
    " 'sub-1862053',\n",
    " 'sub-3892280']\n",
    "\n",
    "'''\n",
    "list_subjects = ['sub-5661598',\n",
    " 'sub-1611989',\n",
    " 'sub-1696980',\n",
    " 'sub-5180874',\n",
    " 'sub-4684085',\n",
    " 'sub-3051292',\n",
    " 'sub-4295302',\n",
    " 'sub-4716793',\n",
    " 'sub-4868612',\n",
    " 'sub-4218716']\n",
    "\n",
    "block2 = a.createWindowsBlock(5) # 5 columns\n",
    "dic_windows2 = {}\n",
    "\n",
    "for subject in list_subjects:\n",
    "    path_to_t1mri = f'/volatile/ad279118/Imaging_Genetics_2025/Figures_Report/TGCC_UKB/{subject}/ses-2/anat/t1mri/default_acquisition'\n",
    "    dic_windows2[f'w{subject}'] = a.createWindow(\"3D\", block=block2)\n",
    "\n",
    "    dic_windows2[f'white_{subject}'] = a.loadObject(f'{path_to_t1mri}/default_analysis/segmentation/mesh/{subject}_{side}white.gii')\n",
    "    dic_windows2[f'white_{subject}'].loadReferentialFromHeader()\n",
    "\n",
    "    dic_windows2[f'sulci_{subject}'] = a.loadObject(f'{path_to_t1mri}/default_analysis/folds/3.1/{side}{subject}.arg')\n",
    "    dic_windows2[f'sulci_{subject}'].loadReferentialFromHeader()\n",
    "\n",
    "    dic_windows2[f'w{subject}'].addObjects([dic_windows2[f'white_{subject}'], dic_windows2[f'sulci_{subject}']])"
   ]
  }
 ],
 "metadata": {
  "kernelspec": {
   "display_name": "venv",
   "language": "python",
   "name": "python3"
  },
  "language_info": {
   "codemirror_mode": {
    "name": "ipython",
    "version": 3
   },
   "file_extension": ".py",
   "mimetype": "text/x-python",
   "name": "python",
   "nbconvert_exporter": "python",
   "pygments_lexer": "ipython3",
   "version": "3.10.12"
  }
 },
 "nbformat": 4,
 "nbformat_minor": 2
}
