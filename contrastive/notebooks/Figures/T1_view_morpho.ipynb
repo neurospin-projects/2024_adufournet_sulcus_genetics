{
 "cells": [
  {
   "cell_type": "code",
   "execution_count": 1,
   "metadata": {},
   "outputs": [
    {
     "name": "stderr",
     "output_type": "stream",
     "text": [
      "/usr/lib/python3/dist-packages/scipy/__init__.py:146: UserWarning: A NumPy version >=1.17.3 and <1.25.0 is required for this version of SciPy (detected version 1.26.4\n",
      "  warnings.warn(f\"A NumPy version >={np_minversion} and <{np_maxversion}\"\n",
      "existing QApplication: 0\n",
      "QStandardPaths: XDG_RUNTIME_DIR not set, defaulting to '/tmp/runtime-ad279118'\n"
     ]
    },
    {
     "name": "stdout",
     "output_type": "stream",
     "text": [
      "create qapp\n",
      "global modules: /casa/host/build/share/anatomist-5.2/python_plugins\n",
      "home   modules: /casa/home/.anatomist/python_plugins\n",
      "done\n",
      "Starting Anatomist.....\n",
      "config file : /casa/home/.anatomist/config/settings.cfg\n",
      "PyAnatomist Module present\n",
      "PythonLauncher::runModules()\n",
      "loading module simple_controls\n",
      "loading module save_resampled\n",
      "loading module selection\n",
      "loading module bsa_proba\n",
      "loading module modelGraphs\n",
      "loading module profilewindow\n",
      "loading module ana_image_math\n",
      "loading module paletteViewer\n",
      "loading module foldsplit\n",
      "loading module anacontrolmenu\n",
      "loading module gradientpalette\n",
      "loading module palettecontrols\n",
      "loading module meshsplit\n",
      "loading module volumepalettes\n",
      "loading module gltf_io\n",
      "loading module infowindow\n",
      "loading module histogram\n",
      "loading module statsplotwindow\n",
      "loading module valuesplotwindow\n",
      "all python modules loaded\n",
      "Anatomist started.\n"
     ]
    }
   ],
   "source": [
    "import anatomist.api as ana\n",
    "from soma.qt_gui.qtThread import QtThreadCall\n",
    "from soma.qt_gui.qt_backend import Qt\n",
    "\n",
    "a = ana.Anatomist()\n",
    "\n",
    "from soma import aims\n",
    "import numpy as np"
   ]
  },
  {
   "cell_type": "code",
   "execution_count": 2,
   "metadata": {},
   "outputs": [],
   "source": [
    "subject = \"213421\"\n",
    "region = \"CINGULATE\"\n",
    "side = \"R\""
   ]
  },
  {
   "cell_type": "code",
   "execution_count": 4,
   "metadata": {},
   "outputs": [
    {
     "name": "stdout",
     "output_type": "stream",
     "text": [
      "nifti transfo: 2\n",
      "nifti transfo: 2\n",
      "nifti transfo: 2\n",
      "memory limit: 40755373670\n",
      "Reading FGraph version 3.1\n",
      "bounding box found : 34, 30, 59\n",
      "                     135, 266, 225\n",
      "memory limit: 40795262156\n",
      "Reading FGraph version 3.1\n",
      "bounding box found : 116, 31, 61\n",
      "                     220, 269, 223\n",
      "nifti transfo: 3\n",
      "nifti transfo: 3\n"
     ]
    },
    {
     "name": "stdout",
     "output_type": "stream",
     "text": [
      "Position : 131.132, 103.517, 63.9103, 0\n",
      "Position : 128.081, 104.201, 60.0753, 0\n",
      "Position : 136.374, 112.448, 65.7608, 0\n",
      "Position : 135.505, 113.398, 64.9799, 0\n",
      "no position could be read at 1917, 342\n",
      "Position : 137.973, 112.435, 68.8046, 0\n",
      "Position : 121.332, 47.751, 82.4538, 0\n",
      "no position could be read at 268, 762\n",
      "no position could be read at 2355, 714\n",
      "no position could be read at 2125, 430\n",
      "no position could be read at 2041, 352\n",
      "Position : 144.795, 128.612, 77.1198, 0\n",
      "no position could be read at 351, 320\n",
      "Position : 139.988, 96.4773, 77.2668, 0\n",
      "Position : 135.285, 101.925, 74.8066, 0\n",
      "Position : 122.285, 146.127, 84.6476, 0\n",
      "no position could be read at 1811, 605\n",
      "Exiting QApplication\n"
     ]
    },
    {
     "ename": "",
     "evalue": "",
     "output_type": "error",
     "traceback": [
      "\u001b[1;31mThe Kernel crashed while executing code in the current cell or a previous cell. \n",
      "\u001b[1;31mPlease review the code in the cell(s) to identify a possible cause of the failure. \n",
      "\u001b[1;31mClick <a href='https://aka.ms/vscodeJupyterKernelCrash'>here</a> for more info. \n",
      "\u001b[1;31mView Jupyter <a href='command:jupyter.viewOutput'>log</a> for further details."
     ]
    }
   ],
   "source": [
    "subject = \"197550\"\n",
    "side = \"R\"\n",
    "region = \"CINGULATE\" #\"CINGULATE\"\n",
    "\n",
    "path_to_t1mri = f'/neurospin/dico/data/bv_databases/human/not_labeled/hcp/hcp/{subject}/t1mri/BL'\n",
    "\n",
    "t1mri = a.loadObject(f'{path_to_t1mri}/{subject}.nii.gz') # why t1 ?\n",
    "t1mri.loadReferentialFromHeader()\n",
    "\n",
    "if True:\n",
    "    # view an object in a 4 views block\n",
    "    block = a.createWindowsBlock(2) # 2 columns\n",
    "    w1 = a.createWindow(\"Axial\", block=block)\n",
    "    w2 = a.createWindow(\"Sagittal\", block=block)\n",
    "    w3 = a.createWindow(\"Coronal\", block=block)\n",
    "    w4 = a.createWindow(\"3D\", block=block)\n",
    "    t1mri.addInWindows([w1, w2, w3, w4])\n",
    "    \n",
    "    # Load an object\n",
    "    Rwhite = a.loadObject(f'{path_to_t1mri}/default_analysis/segmentation/mesh/{subject}_Rwhite.gii')\n",
    "    Lwhite = a.loadObject(f'{path_to_t1mri}/default_analysis/segmentation/mesh/{subject}_Lwhite.gii')\n",
    "    Rwhite.loadReferentialFromHeader()\n",
    "    Lwhite.loadReferentialFromHeader()\n",
    "\n",
    "\n",
    "    w4.addObjects(Rwhite)\n",
    "    w4.addObjects(Lwhite)\n",
    "\n",
    "    Rsulci = a.loadObject(f'{path_to_t1mri}/default_analysis/folds/3.1/R{subject}.arg')\n",
    "    Lsulci = a.loadObject(f'{path_to_t1mri}/default_analysis/folds/3.1/L{subject}.arg')\n",
    "    Rsulci.loadReferentialFromHeader()\n",
    "    Lsulci.loadReferentialFromHeader()\n",
    "\n",
    "\n",
    "    #w3d.addObjects(Rsulci)\n",
    "    #w3d.addObjects(Lsulci)\n",
    "\n",
    "    w4.addObjects(Rsulci)\n",
    "    w4.addObjects(Lsulci)\n",
    "\n",
    "    w5 = a.createWindow(\"3D\")\n",
    "    w5.addObjects(Lwhite)\n",
    "    w5.addObjects(Lsulci)\n"
   ]
  },
  {
   "cell_type": "code",
   "execution_count": 9,
   "metadata": {},
   "outputs": [
    {
     "name": "stdout",
     "output_type": "stream",
     "text": [
      "memory limit: 46628880384\n",
      "Reading FGraph version 3.1\n"
     ]
    },
    {
     "name": "stderr",
     "output_type": "stream",
     "text": [
      "Warning: wrong filename_base in graph, trying to fix it\n"
     ]
    },
    {
     "name": "stdout",
     "output_type": "stream",
     "text": [
      "bounding box found : 77, 32, 39\n",
      "                     146, 195, 154\n",
      "memory limit: 46594434662\n",
      "Reading FGraph version 3.1\n"
     ]
    },
    {
     "name": "stderr",
     "output_type": "stream",
     "text": [
      "Warning: wrong filename_base in graph, trying to fix it\n"
     ]
    },
    {
     "name": "stdout",
     "output_type": "stream",
     "text": [
      "bounding box found : 82, 39, 36\n",
      "                     155, 210, 156\n",
      "memory limit: 46572571852\n",
      "Reading FGraph version 3.1\n"
     ]
    },
    {
     "name": "stderr",
     "output_type": "stream",
     "text": [
      "Warning: wrong filename_base in graph, trying to fix it\n"
     ]
    },
    {
     "name": "stdout",
     "output_type": "stream",
     "text": [
      "bounding box found : 82, 33, 40\n",
      "                     158, 199, 153\n",
      "memory limit: 46578728960\n",
      "Reading FGraph version 3.1\n"
     ]
    },
    {
     "name": "stderr",
     "output_type": "stream",
     "text": [
      "Warning: wrong filename_base in graph, trying to fix it\n"
     ]
    },
    {
     "name": "stdout",
     "output_type": "stream",
     "text": [
      "bounding box found : 84, 37, 41\n",
      "                     161, 189, 183\n",
      "memory limit: 46555761868\n",
      "Reading FGraph version 3.1\n"
     ]
    },
    {
     "name": "stderr",
     "output_type": "stream",
     "text": [
      "Warning: wrong filename_base in graph, trying to fix it\n"
     ]
    },
    {
     "name": "stdout",
     "output_type": "stream",
     "text": [
      "bounding box found : 78, 40, 31\n",
      "                     147, 210, 152\n"
     ]
    }
   ],
   "source": [
    "# for UKB\n",
    "\n",
    "ukb_from_TGCC = '/volatile/ad279118/Irene/MOSTEST/Results/ChampollionV0/ORBITAL_left/pattern_ISBI_2025'\n",
    "\n",
    "list_subjects = ['sub-5627925',\n",
    " 'sub-2714776',\n",
    " 'sub-5439435',\n",
    " 'sub-5577118',\n",
    " 'sub-5702229',]\n",
    "\n",
    "block = a.createWindowsBlock(5) # 5 columns\n",
    "dic_windows = {}\n",
    "\n",
    "for subject in list_subjects:\n",
    "    dic_windows[f'w{subject}'] = a.createWindow(\"3D\", block=block)\n",
    "\n",
    "    dic_windows[f'white_{subject}'] = a.loadObject(f'{ukb_from_TGCC}/{subject}_{side}white.gii')\n",
    "    dic_windows[f'white_{subject}'].loadReferentialFromHeader()\n",
    "\n",
    "    dic_windows[f'sulci_{subject}'] = a.loadObject(f'{ukb_from_TGCC}/{side}{subject}.arg')\n",
    "    dic_windows[f'sulci_{subject}'].loadReferentialFromHeader()\n",
    "\n",
    "    dic_windows[f'w{subject}'].addObjects([dic_windows[f'white_{subject}'], dic_windows[f'sulci_{subject}']])"
   ]
  },
  {
   "cell_type": "code",
   "execution_count": 7,
   "metadata": {},
   "outputs": [
    {
     "name": "stdout",
     "output_type": "stream",
     "text": [
      "memory limit: 41536897024\n",
      "Reading FGraph version 3.1\n",
      "bounding box found : 118, 27, 61\n",
      "                     225, 272, 222\n",
      "memory limit: 41497765478\n",
      "Reading FGraph version 3.1\n",
      "bounding box found : 121, 19, 49\n",
      "                     222, 277, 217\n",
      "memory limit: 41554932531\n",
      "Reading FGraph version 3.1\n",
      "bounding box found : 120, 21, 44\n",
      "                     221, 293, 223\n",
      "memory limit: 41564641689\n",
      "Reading FGraph version 3.1\n",
      "bounding box found : 120, 25, 54\n",
      "                     218, 287, 225\n",
      "memory limit: 41593448038\n",
      "Reading FGraph version 3.1\n",
      "bounding box found : 117, 33, 61\n",
      "                     218, 276, 223\n",
      "memory limit: 41558458368\n",
      "Reading FGraph version 3.1\n",
      "bounding box found : 122, 26, 44\n",
      "                     218, 274, 218\n",
      "memory limit: 41581081395\n",
      "Reading FGraph version 3.1\n",
      "bounding box found : 122, 32, 57\n",
      "                     216, 273, 229\n",
      "memory limit: 41582546124\n",
      "Reading FGraph version 3.1\n",
      "bounding box found : 122, 25, 58\n",
      "                     221, 277, 219\n",
      "memory limit: 41569841971\n",
      "Reading FGraph version 3.1\n",
      "bounding box found : 120, 29, 56\n",
      "                     221, 269, 223\n",
      "memory limit: 41557517926\n",
      "Reading FGraph version 3.1\n",
      "bounding box found : 122, 31, 58\n",
      "                     221, 271, 222\n",
      "memory limit: 41567148441\n",
      "Reading FGraph version 3.1\n",
      "bounding box found : 123, 25, 59\n",
      "                     225, 276, 222\n",
      "memory limit: 41578433740\n",
      "Reading FGraph version 3.1\n",
      "bounding box found : 120, 24, 54\n",
      "                     224, 277, 223\n",
      "memory limit: 41497047859\n",
      "Reading FGraph version 3.1\n",
      "bounding box found : 118, 18, 46\n",
      "                     228, 288, 223\n",
      "memory limit: 41561617203\n",
      "Reading FGraph version 3.1\n",
      "bounding box found : 122, 27, 56\n",
      "                     224, 278, 223\n",
      "memory limit: 41569271808\n",
      "Reading FGraph version 3.1\n",
      "bounding box found : 120, 29, 58\n",
      "                     225, 280, 227\n"
     ]
    }
   ],
   "source": [
    "#for HCP\n",
    "\n",
    "list_subjects = [102816,\n",
    " 103010,\n",
    " 103111,\n",
    " 103212,\n",
    " 103414,\n",
    " 103515,\n",
    " 103818,\n",
    " 104012,\n",
    " 104416,\n",
    " 104820,\n",
    " 105014,\n",
    " 105115,\n",
    " 105216,\n",
    " 105620,\n",
    " 105923]\n",
    "block = a.createWindowsBlock(5) # 5 columns\n",
    "dic_windows = {}\n",
    "\n",
    "for subject in list_subjects:\n",
    "    path_to_t1mri = f'/neurospin/dico/data/bv_databases/human/not_labeled/hcp/hcp/{subject}/t1mri/BL'\n",
    "    dic_windows[f'w{subject}'] = a.createWindow(\"3D\", block=block)\n",
    "\n",
    "    dic_windows[f'white_{subject}'] = a.loadObject(f'{path_to_t1mri}/default_analysis/segmentation/mesh/{subject}_{side}white.gii')\n",
    "    dic_windows[f'white_{subject}'].loadReferentialFromHeader()\n",
    "\n",
    "    dic_windows[f'sulci_{subject}'] = a.loadObject(f'{path_to_t1mri}/default_analysis/folds/3.1/{side}{subject}.arg')\n",
    "    dic_windows[f'sulci_{subject}'].loadReferentialFromHeader()\n",
    "\n",
    "    dic_windows[f'w{subject}'].addObjects([dic_windows[f'white_{subject}'], dic_windows[f'sulci_{subject}']])\n"
   ]
  },
  {
   "cell_type": "code",
   "execution_count": 3,
   "metadata": {},
   "outputs": [],
   "source": [
    "from soma import aims\n",
    "\n",
    "def to_bucket(obj):\n",
    "    if obj.type() == obj.BUCKET:\n",
    "        return obj\n",
    "    avol = a.toAimsObject(obj)\n",
    "    c = aims.Converter(intype=avol, outtype=aims.BucketMap_VOID)\n",
    "    abck = c(avol)\n",
    "    bck = a.toAObject(abck)\n",
    "    bck.releaseAppRef()\n",
    "    return bck\n",
    "\n",
    "id = \"197550\"\n",
    "windoforcrop = a.createWindow(\"3D\")\n",
    "mm_skeleton_path = f\"/neurospin/dico/data/deep_folding/current/datasets/hcp/crops/2mm/CINGULATE/mask/Rcrops/{id}_cropped_skeleton.nii.gz\"\n",
    "\n",
    "#cropi = to_bucket(a.loadObject(mm_skeleton_path))\n",
    "#windoforcrop.addObjects(cropi)"
   ]
  },
  {
   "cell_type": "code",
   "execution_count": 4,
   "metadata": {},
   "outputs": [],
   "source": [
    "def crop_mask(file_src, file_cropped, mask):\n",
    "    \"\"\"Crops according to mask\"\"\"\n",
    "    volume = aims.read(file_src)\n",
    "    print(np.count_nonzero(volume.np))\n",
    "    if mask:\n",
    "        mask = aims.read(mask)\n",
    "        arr = volume.np\n",
    "        arr_mask = np.asarray(mask)\n",
    "        arr[arr_mask == 0] = 0\n",
    "        print(np.count_nonzero(volume.np))\n",
    "    aims.write(volume, file_cropped)"
   ]
  },
  {
   "cell_type": "markdown",
   "metadata": {},
   "source": [
    "To prepare te files for the convert_volume_to_bucket for a given brain region"
   ]
  },
  {
   "cell_type": "code",
   "execution_count": 6,
   "metadata": {},
   "outputs": [
    {
     "name": "stdout",
     "output_type": "stream",
     "text": [
      "11893\n",
      "661\n"
     ]
    }
   ],
   "source": [
    "mask_path = f'/neurospin/dico/data/deep_folding/current/datasets/hcp/crops/2mm/{region}/mask/{side}mask_skeleton.nii.gz'\n",
    "file_src = f'/neurospin/dico/data/deep_folding/current/datasets/hcp/skeletons/2mm/{side}/{side}resampled_skeleton_{subject}.nii.gz'\n",
    "file_cropped = f'/volatile/ad279118/Figures_report/{subject}_{region}_{side}_cropped_skeleton.nii.gz'\n",
    "crop_mask(file_src, file_cropped, mask_path)"
   ]
  },
  {
   "cell_type": "code",
   "execution_count": 7,
   "metadata": {},
   "outputs": [
    {
     "data": {
      "text/plain": [
       "'/neurospin/dico/data/deep_folding/current/datasets/hcp/skeletons/2mm/L/Lresampled_skeleton_213421.nii.gz'"
      ]
     },
     "execution_count": 7,
     "metadata": {},
     "output_type": "execute_result"
    }
   ],
   "source": [
    "file_src"
   ]
  },
  {
   "cell_type": "markdown",
   "metadata": {},
   "source": [
    "To do prepare the file to get the buckets for all sulci for on hemisphere for one subject"
   ]
  },
  {
   "cell_type": "code",
   "execution_count": 13,
   "metadata": {},
   "outputs": [
    {
     "name": "stdout",
     "output_type": "stream",
     "text": [
      "10691\n"
     ]
    }
   ],
   "source": [
    "mask_path = False\n",
    "file_src = f'/neurospin/dico/data/deep_folding/current/datasets/hcp/skeletons/2mm/{side}/{side}resampled_skeleton_{subject}.nii.gz'\n",
    "file_cropped = f'/volatile/ad279118/Figures_report/{subject}_{side}_skeleton.nii.gz'\n",
    "crop_mask(file_src, file_cropped, mask_path)"
   ]
  },
  {
   "cell_type": "markdown",
   "metadata": {},
   "source": [
    "To do from a terminal with bv bash so as to get the buckets"
   ]
  },
  {
   "cell_type": "code",
   "execution_count": null,
   "metadata": {},
   "outputs": [],
   "source": [
    "\"\"\"\n",
    "cd /volatile/ad279118/deep_folding/deep_folding/brainvisa/utils\n",
    "python3 convert_volume_to_bucket.py -s '/volatile/ad279118/Figures_report' -t '/volatile/ad279118/Figures_report'\n",
    "\"\"\""
   ]
  },
  {
   "cell_type": "markdown",
   "metadata": {},
   "source": [
    "To visualize in the end the region included in the whole brain (sulci point of view)"
   ]
  },
  {
   "cell_type": "code",
   "execution_count": 21,
   "metadata": {},
   "outputs": [
    {
     "name": "stderr",
     "output_type": "stream",
     "text": [
      "warning: deleting ID of pointer with no type: ID: 34, ptr: 0x56754f2fec70\n"
     ]
    },
    {
     "name": "stderr",
     "output_type": "stream",
     "text": [
      "QLayout: Attempting to add QLayout \"\" to QWidget \"\", which already has a layout\n"
     ]
    },
    {
     "name": "stdout",
     "output_type": "stream",
     "text": [
      "Position : 40.9796, 108.018, 108.022, 0\n",
      "Position : 39.2647, 151.147, 109.465, 0\n",
      "no position could be read at 821, 563\n",
      "no position could be read at 1759, 711\n",
      "no position could be read at 1349, 145\n",
      "no position could be read at 1627, 584\n",
      "no position could be read at 1175, 576\n",
      "no position could be read at 1226, 135\n",
      "Position : 95.0325, 54.8692, 80.9607, 0\n",
      "Position : 89.0327, 56.5397, 83.1394, 0\n",
      "no position could be read at 1218, 689\n",
      "no position could be read at 1218, 689\n",
      "no position could be read at 1262, 681\n",
      "no position could be read at 1276, 662\n",
      "no position could be read at 1298, 662\n",
      "no position could be read at 1303, 625\n",
      "no position could be read at 1313, 671\n",
      "no position could be read at 1297, 647\n",
      "no position could be read at 1407, 624\n",
      "no position could be read at 1398, 671\n",
      "no position could be read at 1363, 676\n",
      "no position could be read at 1159, 511\n",
      "no position could be read at 1159, 511\n",
      "no position could be read at 1119, 624\n"
     ]
    },
    {
     "name": "stderr",
     "output_type": "stream",
     "text": [
      "snap 1 : OpenGL error: invalid operation\n",
      "snap 1 : OpenGL error: invalid operation\n"
     ]
    }
   ],
   "source": [
    "w5 = a.createWindow(\"3D\")\n",
    "path_to_bck = f\"/volatile/ad279118/Figures_report/Cropped_files/{subject}_{region}_{side}_cropped_skeleton.bck\"\n",
    "\n",
    "\n",
    "bcks = a.loadObject(path_to_bck)\n",
    "bcks.loadReferentialFromHeader()\n",
    "\n",
    "path_to_source = f\"/volatile/ad279118/Figures_report/Cropped_files/{subject}_{side}_skeleton.bck\"\n",
    "\n",
    "source = a.loadObject(path_to_source)\n",
    "source.loadReferentialFromHeader()\n",
    "\n",
    "#w5.addObjects(Rwhite)\n",
    "#w5.addObjects(Rsulci)\n",
    "w5.addObjects(bcks)\n",
    "w5.addObjects(source)"
   ]
  },
  {
   "cell_type": "code",
   "execution_count": 15,
   "metadata": {},
   "outputs": [
    {
     "data": {
      "text/plain": [
       "'/volatile/ad279118/Figures_report/Cropped_files/197550_ORBITAL_L_cropped_skeleton.bck'"
      ]
     },
     "execution_count": 15,
     "metadata": {},
     "output_type": "execute_result"
    }
   ],
   "source": [
    "path_to_bck"
   ]
  },
  {
   "cell_type": "code",
   "execution_count": 9,
   "metadata": {},
   "outputs": [
    {
     "data": {
      "text/plain": [
       "'/volatile/ad279118/Figures_report/Cropped_files/197550_R_skeleton.bck'"
      ]
     },
     "execution_count": 9,
     "metadata": {},
     "output_type": "execute_result"
    }
   ],
   "source": [
    "path_to_source"
   ]
  }
 ],
 "metadata": {
  "kernelspec": {
   "display_name": "venv",
   "language": "python",
   "name": "python3"
  },
  "language_info": {
   "codemirror_mode": {
    "name": "ipython",
    "version": 3
   },
   "file_extension": ".py",
   "mimetype": "text/x-python",
   "name": "python",
   "nbconvert_exporter": "python",
   "pygments_lexer": "ipython3",
   "version": "3.10.12"
  }
 },
 "nbformat": 4,
 "nbformat_minor": 2
}
