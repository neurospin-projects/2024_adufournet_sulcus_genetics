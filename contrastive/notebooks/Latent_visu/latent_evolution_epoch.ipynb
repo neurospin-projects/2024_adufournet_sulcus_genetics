{
 "cells": [
  {
   "cell_type": "code",
   "execution_count": 2,
   "metadata": {},
   "outputs": [],
   "source": [
    "import matplotlib.pyplot as plt\n",
    "import numpy as np\n",
    "import pandas as pd\n",
    "import seaborn as sns\n",
    "from tqdm import tqdm\n",
    "from sklearn.preprocessing import StandardScaler\n",
    "import umap\n",
    "import os\n",
    "from model_evolution import get_models_path, get_epochs, check_embeddings, loader, chose_target, scale_based_on_UKB, classifier"
   ]
  },
  {
   "cell_type": "code",
   "execution_count": 3,
   "metadata": {},
   "outputs": [],
   "source": [
    "sns.set_theme(style=\"darkgrid\")"
   ]
  },
  {
   "cell_type": "code",
   "execution_count": 4,
   "metadata": {},
   "outputs": [],
   "source": [
    "# rootdir = '/neurospin/dico/adufournet/Runs/02_Heritability_Left_PCS_HCP/Output/2024-05-23/' #Strange one, likely due to branch merging issues \n",
    "\n",
    "# rootdir = '/neurospin/dico/adufournet/Runs/01_Heritability_Right_PCS_HCP/Output/2024-05-27/' # very consistent\n",
    "# rootdir = '/neurospin/dico/adufournet/Runs/01_Heritability_Right_PCS_HCP/Output/2024-05-28/' # very consistent too\n",
    "# rootdir = '/neurospin/dico/adufournet/Runs/04_Heritability_Right_PCS_HCP_dim10/Output/2024-05-29/' # to try !!!! Strange one too\n",
    "\n",
    "# rootdir = '/neurospin/dico/adufournet/Runs/02_Heritability_Left_PCS_HCP/Output/2024-05-29/' # to try !!! very consistent\n",
    "# rootdir = '/neurospin/dico/adufournet/Runs/05_Heritability_Left_PCS_HCP_dim10/Output/2024-05-23/' # what is expected\n",
    "\n",
    "# rootdir = '/neurospin/dico/adufournet/mycode/Output/2024-07-22/'\n",
    "rootdir = '/neurospin/dico/adufournet/mycode/Output//2024-07-23/'\n",
    "\n",
    "#model_date = rootdir[75:85]\n",
    "model_date = '2024-07-23'\n",
    "side = 'LEFT'\n",
    "region = 'CINGULATE'"
   ]
  },
  {
   "cell_type": "code",
   "execution_count": 5,
   "metadata": {},
   "outputs": [],
   "source": [
    "def encoder(df, columns):\n",
    "    for col in columns:\n",
    "        code = {'present':1,\n",
    "                'absent':0}\n",
    "        df[col] = df[col].map(code)\n",
    "    return df\n",
    "\n",
    "labels_ACCP = pd.read_csv(\"/neurospin/dico/data/deep_folding/current/datasets/ACCpatterns/subjects_labels.csv\")\n",
    "labels_ACCP = labels_ACCP[['long_name','Left_PCS', 'Right_PCS']]\n",
    "\n",
    "encoder(labels_ACCP, ['Left_PCS', 'Right_PCS']) \n",
    "labels_ACCP['Asymmetry'] = abs(labels_ACCP.Left_PCS - labels_ACCP.Right_PCS)"
   ]
  },
  {
   "cell_type": "code",
   "execution_count": 6,
   "metadata": {},
   "outputs": [],
   "source": [
    "list_to_drop = ['Asymmetry','Left_PCS','Right_PCS']\n",
    "\n",
    "list_model = get_models_path(rootdir)   \n",
    "epochs = get_epochs(f'{rootdir}{list_model[0]}/')\n",
    "target = 'Left_PCS'\n",
    "\n",
    "list_of_people_to_follow = ['sub-4662034', 'sub-4168749', 'sub-2815300', 'sub-2302098','sub-5587423', 'sub-5627925', 'sub-4167965', 'sub-5040269', 'sub-4405541', 'sub-1816223', 'sub-4170820']\n",
    "#Assign a unique color for each person to follow\n",
    "colors = sns.color_palette(n_colors=len(list_of_people_to_follow))"
   ]
  },
  {
   "cell_type": "code",
   "execution_count": 7,
   "metadata": {},
   "outputs": [
    {
     "name": "stderr",
     "output_type": "stream",
     "text": [
      "0it [00:00, ?it/s]"
     ]
    }
   ],
   "source": [
    "UKBioBank_only = True\n",
    "\n",
    "for i, str_model in tqdm(enumerate(list_model)):\n",
    "    #fig, axs = plt.subplots(ncols=len(epochs), figsize=(16 * len(epochs), 16))\n",
    "    pred_dic = {}\n",
    "    for j, epoch in enumerate(np.sort(list(epochs))):\n",
    "        path = f'{rootdir}{str_model}/'\n",
    "        #path = str_model+'/'\n",
    "        if not UKBioBank_only:\n",
    "            embeddings_ACCP, embeddings_HCP, embeddings_UKB = loader(path, epoch)\n",
    "            scl_bdd_accp, scl_bdd_hcp, scl_bdd_ukb, scaler = scale_based_on_UKB(embeddings_ACCP, embeddings_HCP, embeddings_UKB)               \n",
    "        else:\n",
    "            embeddings_ACCP, embeddings_HCP, embeddings_UKB = loader(path, epoch, ['UKB'])\n",
    "            scaler = StandardScaler()\n",
    "            scl_bdd_ukb = scaler.fit_transform(embeddings_UKB)\n",
    "\n",
    "        reducer = umap.UMAP(n_neighbors=200)\n",
    "        reducer.fit(scl_bdd_ukb)\n",
    "            \n",
    "        bdd_2D_UKB = reducer.transform(scl_bdd_ukb) \n",
    "        bdd_2D_UKB = pd.DataFrame(bdd_2D_UKB, columns=['Dim1', 'Dim2'])\n",
    "        bdd_2D_UKB['Dataset'] = 'UkBioBank'\n",
    "        bdd_2D_UKB = bdd_2D_UKB.set_index(embeddings_UKB.index)\n",
    "            \n",
    "        if not UKBioBank_only:\n",
    "            bdd_2D_ACCP = reducer.transform(scl_bdd_accp) \n",
    "            bdd_2D_HCP = reducer.transform(scl_bdd_hcp)\n",
    "            bdd_2D_ACCP = pd.DataFrame(bdd_2D_ACCP, columns=['Dim1', 'Dim2'])\n",
    "            bdd_2D_HCP = pd.DataFrame(bdd_2D_HCP, columns=['Dim1', 'Dim2'])\n",
    "            bdd_2D_HCP['Dataset'] = 'hcp'\n",
    "            bdd_2D_ACCP['Dataset'] = 'accp'\n",
    "            bdd_2D_ACCP = bdd_2D_ACCP.set_index(embeddings_ACCP.index)\n",
    "            bdd_2D_HCP = bdd_2D_HCP.set_index(embeddings_HCP.index)\n",
    "\n",
    "        plt.figure(figsize=(12,8))\n",
    "        sns.kdeplot(\n",
    "            data=bdd_2D_UKB,\n",
    "            x=\"Dim1\",\n",
    "            y=\"Dim2\",\n",
    "            thresh=.1,\n",
    "            fill=True, \n",
    "            cbar=True\n",
    "        )\n",
    "        for idx, people_i in enumerate(list_of_people_to_follow):\n",
    "            plt.scatter(bdd_2D_UKB.loc[people_i]['Dim1'], bdd_2D_UKB.loc[people_i]['Dim2'], s=10, color=colors[idx], label=f'{people_i}')\n",
    "        plt.title(f'Model {str_model}, Epoch {epoch}')\n",
    "            \n",
    "        custom_lines = [plt.Line2D([0], [0], color=colors[idx], lw=4) for idx in range(len(list_of_people_to_follow))]\n",
    "        plt.legend(custom_lines, [f'{people_i}' for people_i in list_of_people_to_follow], bbox_to_anchor=(-0.2, 0.5), loc='center right', title=\"Subjects\")\n",
    "        # Create the directory if it doesn't exist\n",
    "        save_dir = f'/volatile/ad279118/2023_jlaval_STSbabies/contrastive/notebooks/antoine/{side}_{region}/UMAP_evolution/{model_date}/{str_model}/'\n",
    "        if not os.path.exists(save_dir):\n",
    "            os.makedirs(save_dir)\n",
    "\n",
    "        # Save the figure\n",
    "        plt.tight_layout()\n",
    "        plt.savefig(f'{save_dir}/epoch_{epoch}.png')\n",
    "        plt.show()\n"
   ]
  }
 ],
 "metadata": {
  "kernelspec": {
   "display_name": "Python 3",
   "language": "python",
   "name": "python3"
  },
  "language_info": {
   "codemirror_mode": {
    "name": "ipython",
    "version": 3
   },
   "file_extension": ".py",
   "mimetype": "text/x-python",
   "name": "python",
   "nbconvert_exporter": "python",
   "pygments_lexer": "ipython3",
   "version": "3.10.12"
  }
 },
 "nbformat": 4,
 "nbformat_minor": 2
}
