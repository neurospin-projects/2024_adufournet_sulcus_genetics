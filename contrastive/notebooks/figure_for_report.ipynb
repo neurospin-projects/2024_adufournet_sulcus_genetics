{
 "cells": [
  {
   "cell_type": "code",
   "execution_count": 12,
   "metadata": {},
   "outputs": [],
   "source": [
    "import anatomist.api as ana\n",
    "from soma.qt_gui.qtThread import QtThreadCall\n",
    "from soma.qt_gui.qt_backend import Qt\n",
    "\n",
    "a = ana.Anatomist()\n",
    "\n",
    "from soma import aims\n",
    "import numpy as np"
   ]
  },
  {
   "cell_type": "code",
   "execution_count": 13,
   "metadata": {},
   "outputs": [],
   "source": [
    "subject = \"197550\"\n",
    "side = \"R\"\n",
    "region = \"ORBITAL\" #\"CINGULATE\"\n",
    "\n",
    "path_to_t1mri = f'/neurospin/dico/data/bv_databases/human/not_labeled/hcp/hcp/{subject}/t1mri/BL'\n",
    "\n",
    "t1mri = a.loadObject(f'{path_to_t1mri}/{subject}.nii.gz') # why t1 ?\n",
    "t1mri.loadReferentialFromHeader()\n",
    "\n",
    "if False:\n",
    "    # view an object in a 4 views block\n",
    "    block = a.createWindowsBlock(2) # 2 columns\n",
    "    w1 = a.createWindow(\"Axial\", block=block)\n",
    "    w2 = a.createWindow(\"Sagittal\", block=block)\n",
    "    w3 = a.createWindow(\"Coronal\", block=block)\n",
    "    w4 = a.createWindow(\"3D\", block=block)\n",
    "    t1mri.addInWindows([w1, w2, w3, w4])\n",
    "    \n",
    "    # Load an object\n",
    "    Rwhite = a.loadObject(f'{path_to_t1mri}/default_analysis/segmentation/mesh/{subject}_Rwhite.gii')\n",
    "    Lwhite = a.loadObject(f'{path_to_t1mri}/default_analysis/segmentation/mesh/{subject}_Lwhite.gii')\n",
    "    Rwhite.loadReferentialFromHeader()\n",
    "    Lwhite.loadReferentialFromHeader()\n",
    "\n",
    "\n",
    "    w4.addObjects(Rwhite)\n",
    "    w4.addObjects(Lwhite)\n",
    "\n",
    "    Rsulci = a.loadObject(f'{path_to_t1mri}/default_analysis/folds/3.1/R{subject}.arg')\n",
    "    Lsulci = a.loadObject(f'{path_to_t1mri}/default_analysis/folds/3.1/L{subject}.arg')\n",
    "    Rsulci.loadReferentialFromHeader()\n",
    "    Lsulci.loadReferentialFromHeader()\n",
    "\n",
    "\n",
    "    #w3d.addObjects(Rsulci)\n",
    "    #w3d.addObjects(Lsulci)\n",
    "\n",
    "    w4.addObjects(Rsulci)\n",
    "    w4.addObjects(Lsulci)\n"
   ]
  },
  {
   "cell_type": "code",
   "execution_count": 14,
   "metadata": {},
   "outputs": [
    {
     "name": "stderr",
     "output_type": "stream",
     "text": [
      "warning: deleting ID of pointer with no type: ID: 15, ptr: 0x5e97c80c79b0\n"
     ]
    },
    {
     "name": "stdout",
     "output_type": "stream",
     "text": [
      "memory limit: 41512973107\n",
      "Reading FGraph version 3.1\n",
      "bounding box found : 32, 29, 57\n",
      "                     132, 273, 226\n",
      "memory limit: 41526365388\n",
      "Reading FGraph version 3.1\n",
      "bounding box found : 39, 27, 56\n",
      "                     140, 277, 221\n",
      "memory limit: 41541494374\n",
      "Reading FGraph version 3.1\n",
      "bounding box found : 27, 31, 52\n",
      "                     134, 272, 224\n"
     ]
    },
    {
     "ename": "",
     "evalue": "",
     "output_type": "error",
     "traceback": [
      "\u001b[1;31mThe Kernel crashed while executing code in the current cell or a previous cell. \n",
      "\u001b[1;31mPlease review the code in the cell(s) to identify a possible cause of the failure. \n",
      "\u001b[1;31mClick <a href='https://aka.ms/vscodeJupyterKernelCrash'>here</a> for more info. \n",
      "\u001b[1;31mView Jupyter <a href='command:jupyter.viewOutput'>log</a> for further details."
     ]
    }
   ],
   "source": [
    "#for HCP\n",
    "\n",
    "list_subjects = [499566, 480141, 112314, 199453, 151223, 211114, 592455, 584355, 857263, 213421]\n",
    "block = a.createWindowsBlock(5) # 5 columns\n",
    "dic_windows = {}\n",
    "\n",
    "for subject in list_subjects:\n",
    "    path_to_t1mri = f'/neurospin/dico/data/bv_databases/human/not_labeled/hcp/hcp/{subject}/t1mri/BL'\n",
    "    dic_windows[f'w{subject}'] = a.createWindow(\"3D\", block=block)\n",
    "\n",
    "    dic_windows[f'white_{subject}'] = a.loadObject(f'{path_to_t1mri}/default_analysis/segmentation/mesh/{subject}_{side}white.gii')\n",
    "    dic_windows[f'white_{subject}'].loadReferentialFromHeader()\n",
    "\n",
    "    dic_windows[f'sulci_{subject}'] = a.loadObject(f'{path_to_t1mri}/default_analysis/folds/3.1/{side}{subject}.arg')\n",
    "    dic_windows[f'sulci_{subject}'].loadReferentialFromHeader()\n",
    "\n",
    "    dic_windows[f'w{subject}'].addObjects([dic_windows[f'white_{subject}'], dic_windows[f'sulci_{subject}']])\n"
   ]
  },
  {
   "cell_type": "code",
   "execution_count": 3,
   "metadata": {},
   "outputs": [],
   "source": [
    "from soma import aims\n",
    "\n",
    "def to_bucket(obj):\n",
    "    if obj.type() == obj.BUCKET:\n",
    "        return obj\n",
    "    avol = a.toAimsObject(obj)\n",
    "    c = aims.Converter(intype=avol, outtype=aims.BucketMap_VOID)\n",
    "    abck = c(avol)\n",
    "    bck = a.toAObject(abck)\n",
    "    bck.releaseAppRef()\n",
    "    return bck\n",
    "\n",
    "id = \"197550\"\n",
    "windoforcrop = a.createWindow(\"3D\")\n",
    "mm_skeleton_path = f\"/neurospin/dico/data/deep_folding/current/datasets/hcp/crops/2mm/CINGULATE/mask/Rcrops/{id}_cropped_skeleton.nii.gz\"\n",
    "\n",
    "#cropi = to_bucket(a.loadObject(mm_skeleton_path))\n",
    "#windoforcrop.addObjects(cropi)"
   ]
  },
  {
   "cell_type": "code",
   "execution_count": 4,
   "metadata": {},
   "outputs": [],
   "source": [
    "def crop_mask(file_src, file_cropped, mask):\n",
    "    \"\"\"Crops according to mask\"\"\"\n",
    "    volume = aims.read(file_src)\n",
    "    print(np.count_nonzero(volume.np))\n",
    "    if mask:\n",
    "        mask = aims.read(mask)\n",
    "        arr = volume.np\n",
    "        arr_mask = np.asarray(mask)\n",
    "        arr[arr_mask == 0] = 0\n",
    "        print(np.count_nonzero(volume.np))\n",
    "    aims.write(volume, file_cropped)"
   ]
  },
  {
   "cell_type": "markdown",
   "metadata": {},
   "source": [
    "To prepare te files for the convert_volume_to_bucket for a given brain region"
   ]
  },
  {
   "cell_type": "code",
   "execution_count": 6,
   "metadata": {},
   "outputs": [
    {
     "name": "stdout",
     "output_type": "stream",
     "text": [
      "11893\n",
      "661\n"
     ]
    }
   ],
   "source": [
    "mask_path = f'/neurospin/dico/data/deep_folding/current/datasets/hcp/crops/2mm/{region}/mask/{side}mask_skeleton.nii.gz'\n",
    "file_src = f'/neurospin/dico/data/deep_folding/current/datasets/hcp/skeletons/2mm/{side}/{side}resampled_skeleton_{subject}.nii.gz'\n",
    "file_cropped = f'/volatile/ad279118/Figures_report/{subject}_{region}_{side}_cropped_skeleton.nii.gz'\n",
    "crop_mask(file_src, file_cropped, mask_path)"
   ]
  },
  {
   "cell_type": "code",
   "execution_count": 7,
   "metadata": {},
   "outputs": [
    {
     "data": {
      "text/plain": [
       "'/neurospin/dico/data/deep_folding/current/datasets/hcp/skeletons/2mm/L/Lresampled_skeleton_213421.nii.gz'"
      ]
     },
     "execution_count": 7,
     "metadata": {},
     "output_type": "execute_result"
    }
   ],
   "source": [
    "file_src"
   ]
  },
  {
   "cell_type": "markdown",
   "metadata": {},
   "source": [
    "To do prepare the file to get the buckets for all sulci for on hemisphere for one subject"
   ]
  },
  {
   "cell_type": "code",
   "execution_count": 5,
   "metadata": {},
   "outputs": [
    {
     "name": "stdout",
     "output_type": "stream",
     "text": [
      "10560\n"
     ]
    }
   ],
   "source": [
    "mask_path = False\n",
    "file_src = f'/neurospin/dico/data/deep_folding/current/datasets/hcp/skeletons/2mm/{side}/{side}resampled_skeleton_{subject}.nii.gz'\n",
    "file_cropped = f'/volatile/ad279118/Figures_report/{subject}_{side}_skeleton.nii.gz'\n",
    "crop_mask(file_src, file_cropped, mask_path)"
   ]
  },
  {
   "cell_type": "markdown",
   "metadata": {},
   "source": [
    "To do from a terminal with bv bash so as to get the buckets"
   ]
  },
  {
   "cell_type": "code",
   "execution_count": null,
   "metadata": {},
   "outputs": [],
   "source": [
    "\"\"\"\n",
    "cd /volatile/ad279118/deep_folding/deep_folding/brainvisa/utils\n",
    "python3 convert_volume_to_bucket.py -s '/volatile/ad279118/Figures_report' -t '/volatile/ad279118/Figures_report'\n",
    "\"\"\""
   ]
  },
  {
   "cell_type": "markdown",
   "metadata": {},
   "source": [
    "To visualize in the end the region included in the whole brain (sulci point of view)"
   ]
  },
  {
   "cell_type": "code",
   "execution_count": 11,
   "metadata": {},
   "outputs": [
    {
     "name": "stderr",
     "output_type": "stream",
     "text": [
      "warning: deleting ID of pointer with no type: ID: 14, ptr: 0x5e97cb397270\n"
     ]
    },
    {
     "name": "stdout",
     "output_type": "stream",
     "text": [
      "Position : -3.61077, -45.9965, 23.1891, 0\n",
      "no position could be read at 933, 678\n",
      "Position : 86.1, 98.6035, 83.3076, 0\n",
      "Position : 86.1, 103.712, 67.3424, 0\n",
      "Position : 107.073, 119.196, 67.2012, 0\n",
      "Position : 87.2126, 119.96, 67.2012, 0\n",
      "no position could be read at 1669, 936\n",
      "no position could be read at 323, 720\n",
      "no position could be read at 1505, 503\n",
      "no position could be read at 1495, 566\n",
      "no position could be read at 1120, 381\n",
      "no position could be read at 1439, 639\n",
      "control RefTransControl not found\n"
     ]
    },
    {
     "name": "stderr",
     "output_type": "stream",
     "text": [
      "QLayout: Attempting to add QLayout \"\" to QWidget \"\", which already has a layout\n"
     ]
    },
    {
     "name": "stdout",
     "output_type": "stream",
     "text": [
      "no position could be read at 1445, 573\n",
      "no position could be read at 1873, 605\n",
      "no position could be read at 1717, 714\n",
      "Position : 72.9976, 41.3465, 99.1904, 0\n",
      "no position could be read at 1203, 659\n",
      "no position could be read at 1436, 720\n",
      "no position could be read at 1530, 460\n",
      "no position could be read at 1361, 667\n",
      "no position could be read at 1192, 851\n",
      "no position could be read at 768, 474\n",
      "no position could be read at 2281, 520\n",
      "no position could be read at 1814, 682\n",
      "no position could be read at 1551, 355\n",
      "no position could be read at 1834, 746\n",
      "no position could be read at 1941, 566\n",
      "no position could be read at 2109, 635\n",
      "no position could be read at 420, 577\n",
      "no position could be read at 712, 441\n",
      "no position could be read at 1917, 877\n",
      "no position could be read at 2024, 628\n",
      "no position could be read at 1897, 758\n",
      "no position could be read at 2007, 879\n",
      "no position could be read at 1773, 906\n",
      "no position could be read at 1169, 858\n",
      "no position could be read at 1457, 706\n"
     ]
    }
   ],
   "source": [
    "w5 = a.createWindow(\"3D\")\n",
    "path_to_bck = f\"/volatile/ad279118/Figures_report/Cropped_files/{subject}_{region}_{side}_cropped_skeleton.bck\"\n",
    "\n",
    "\n",
    "bcks = a.loadObject(path_to_bck)\n",
    "bcks.loadReferentialFromHeader()\n",
    "\n",
    "path_to_source = f\"/volatile/ad279118/Figures_report/Cropped_files/{subject}_{side}_skeleton.bck\"\n",
    "\n",
    "source = a.loadObject(path_to_source)\n",
    "source.loadReferentialFromHeader()\n",
    "\n",
    "w5.addObjects(Rwhite)\n",
    "w5.addObjects(Rsulci)\n",
    "w5.addObjects(bcks)\n",
    "w5.addObjects(source)"
   ]
  },
  {
   "cell_type": "code",
   "execution_count": 8,
   "metadata": {},
   "outputs": [
    {
     "data": {
      "text/plain": [
       "'/volatile/ad279118/Figures_report/Cropped_files/197550_ORBITAL_R_cropped_skeleton.bck'"
      ]
     },
     "execution_count": 8,
     "metadata": {},
     "output_type": "execute_result"
    }
   ],
   "source": [
    "path_to_bck"
   ]
  },
  {
   "cell_type": "code",
   "execution_count": 9,
   "metadata": {},
   "outputs": [
    {
     "data": {
      "text/plain": [
       "'/volatile/ad279118/Figures_report/Cropped_files/197550_R_skeleton.bck'"
      ]
     },
     "execution_count": 9,
     "metadata": {},
     "output_type": "execute_result"
    }
   ],
   "source": [
    "path_to_source"
   ]
  }
 ],
 "metadata": {
  "kernelspec": {
   "display_name": "venv",
   "language": "python",
   "name": "python3"
  },
  "language_info": {
   "codemirror_mode": {
    "name": "ipython",
    "version": 3
   },
   "file_extension": ".py",
   "mimetype": "text/x-python",
   "name": "python",
   "nbconvert_exporter": "python",
   "pygments_lexer": "ipython3",
   "version": "3.10.12"
  }
 },
 "nbformat": 4,
 "nbformat_minor": 2
}
