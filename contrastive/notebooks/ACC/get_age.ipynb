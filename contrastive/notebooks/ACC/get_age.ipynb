{
 "cells": [
  {
   "cell_type": "markdown",
   "metadata": {},
   "source": [
    "## To get the age of the ACC database subjects"
   ]
  },
  {
   "cell_type": "code",
   "execution_count": 1,
   "metadata": {},
   "outputs": [
    {
     "name": "stderr",
     "output_type": "stream",
     "text": [
      "/usr/lib/python3/dist-packages/scipy/__init__.py:146: UserWarning: A NumPy version >=1.17.3 and <1.25.0 is required for this version of SciPy (detected version 1.26.4\n",
      "  warnings.warn(f\"A NumPy version >={np_minversion} and <{np_maxversion}\"\n"
     ]
    }
   ],
   "source": [
    "import matplotlib.pyplot as plt\n",
    "import seaborn as sns\n",
    "import pandas as pd"
   ]
  },
  {
   "cell_type": "code",
   "execution_count": 21,
   "metadata": {},
   "outputs": [],
   "source": [
    "labels_ACCP = pd.read_csv(\"/neurospin/dico/data/bv_databases/human/partially_labeled/ACCpatterns/all.csv\")\n",
    "sub_part = pd.read_csv(\"/neurospin/dico/data/deep_folding/current/datasets/ACCpatterns/ACCpatterns_all_subs.csv\", header=None) \n",
    "labels_ACCP.columns\n",
    "labels_ACCP = labels_ACCP[labels_ACCP['long_name'].isin(sub_part[0].to_list())]"
   ]
  },
  {
   "cell_type": "code",
   "execution_count": 22,
   "metadata": {},
   "outputs": [
    {
     "data": {
      "image/png": "[encoded data removed]",
      "text/plain": [
       "<Figure size 432x288 with 2 Axes>"
      ]
     },
     "metadata": {
      "needs_background": "light"
     },
     "output_type": "display_data"
    },
    {
     "name": "stderr",
     "output_type": "stream",
     "text": [
      "/usr/lib/python3/dist-packages/pandas/core/generic.py:5516: SettingWithCopyWarning: \n",
      "A value is trying to be set on a copy of a slice from a DataFrame.\n",
      "Try using .loc[row_indexer,col_indexer] = value instead\n",
      "\n",
      "See the caveats in the documentation: https://pandas.pydata.org/pandas-docs/stable/user_guide/indexing.html#returning-a-view-versus-a-copy\n",
      "  self[name] = value\n"
     ]
    },
    {
     "data": {
      "text/html": [
       "<div>\n",
       "<style scoped>\n",
       "    .dataframe tbody tr th:only-of-type {\n",
       "        vertical-align: middle;\n",
       "    }\n",
       "\n",
       "    .dataframe tbody tr th {\n",
       "        vertical-align: top;\n",
       "    }\n",
       "\n",
       "    .dataframe thead th {\n",
       "        text-align: right;\n",
       "    }\n",
       "</style>\n",
       "<table border=\"1\" class=\"dataframe\">\n",
       "  <thead>\n",
       "    <tr style=\"text-align: right;\">\n",
       "      <th></th>\n",
       "      <th>AGESCAN0</th>\n",
       "      <th>AGESCAN1</th>\n",
       "      <th>Age</th>\n",
       "    </tr>\n",
       "  </thead>\n",
       "  <tbody>\n",
       "    <tr>\n",
       "      <th>count</th>\n",
       "      <td>196.000000</td>\n",
       "      <td>196.000000</td>\n",
       "      <td>80.000000</td>\n",
       "    </tr>\n",
       "    <tr>\n",
       "      <th>mean</th>\n",
       "      <td>14.036276</td>\n",
       "      <td>20.327143</td>\n",
       "      <td>18.837945</td>\n",
       "    </tr>\n",
       "    <tr>\n",
       "      <th>std</th>\n",
       "      <td>3.544815</td>\n",
       "      <td>4.852308</td>\n",
       "      <td>8.046617</td>\n",
       "    </tr>\n",
       "    <tr>\n",
       "      <th>min</th>\n",
       "      <td>6.540000</td>\n",
       "      <td>10.380000</td>\n",
       "      <td>9.460274</td>\n",
       "    </tr>\n",
       "    <tr>\n",
       "      <th>25%</th>\n",
       "      <td>11.652500</td>\n",
       "      <td>16.747500</td>\n",
       "      <td>11.810274</td>\n",
       "    </tr>\n",
       "    <tr>\n",
       "      <th>50%</th>\n",
       "      <td>13.645000</td>\n",
       "      <td>20.215000</td>\n",
       "      <td>17.405479</td>\n",
       "    </tr>\n",
       "    <tr>\n",
       "      <th>75%</th>\n",
       "      <td>15.807500</td>\n",
       "      <td>23.985000</td>\n",
       "      <td>25.228082</td>\n",
       "    </tr>\n",
       "    <tr>\n",
       "      <th>max</th>\n",
       "      <td>26.420000</td>\n",
       "      <td>32.800000</td>\n",
       "      <td>40.473973</td>\n",
       "    </tr>\n",
       "  </tbody>\n",
       "</table>\n",
       "</div>"
      ],
      "text/plain": [
       "         AGESCAN0    AGESCAN1        Age\n",
       "count  196.000000  196.000000  80.000000\n",
       "mean    14.036276   20.327143  18.837945\n",
       "std      3.544815    4.852308   8.046617\n",
       "min      6.540000   10.380000   9.460274\n",
       "25%     11.652500   16.747500  11.810274\n",
       "50%     13.645000   20.215000  17.405479\n",
       "75%     15.807500   23.985000  25.228082\n",
       "max     26.420000   32.800000  40.473973"
      ]
     },
     "execution_count": 22,
     "metadata": {},
     "output_type": "execute_result"
    }
   ],
   "source": [
    "dcfro = labels_ACCP[['DATABASE', 'SEX', 'AGESCAN0', 'AGESCAN1','Age']]\n",
    "colours = ['#34495E', 'seagreen'] \n",
    "sns.heatmap(dcfro.isnull(), cmap=sns.color_palette(colours))\n",
    "plt.show()\n",
    "dcfro.AGESCAN0 = dcfro.AGESCAN0.str.replace(',', '.').astype('float')\n",
    "dcfro.AGESCAN1 = dcfro.AGESCAN1.str.replace(',', '.').astype('float')\n",
    "dcfro.describe()"
   ]
  },
  {
   "cell_type": "code",
   "execution_count": 31,
   "metadata": {},
   "outputs": [
    {
     "name": "stdout",
     "output_type": "stream",
     "text": [
      "['M' 'F' nan]\n",
      "161\n",
      "115\n",
      "65\n"
     ]
    }
   ],
   "source": [
    "print(dcfro.SEX.unique())\n",
    "print((dcfro.SEX == \"M\").sum())\n",
    "print((dcfro.SEX == \"F\").sum())\n",
    "print(len(dcfro)-((dcfro.SEX == \"M\").sum()+(dcfro.SEX == \"F\").sum()))\n"
   ]
  },
  {
   "cell_type": "code",
   "execution_count": 41,
   "metadata": {},
   "outputs": [
    {
     "name": "stdout",
     "output_type": "stream",
     "text": [
      "184.60884533898306\n",
      "156.39115466101694\n",
      "0.5413749130175456\n"
     ]
    }
   ],
   "source": [
    "#46 adolescents (20 males for 59 sub, M = 16.4 ± 0.52 years, range = 15–17 years)\n",
    "#19 children (27 males for 64, M ± SD = 9.8 ± 0.56 years, range = 9–10 years)\n",
    "nb_tot_male= 161 + 46*20/59 + 19*27/64\n",
    "nb_tot_female = 115 + 46*(1-20/59) + 19*(1-27/64)\n",
    "print(nb_tot_male)\n",
    "print(nb_tot_female)\n",
    "print(nb_tot_male / (nb_tot_male + nb_tot_female))"
   ]
  },
  {
   "cell_type": "code",
   "execution_count": 42,
   "metadata": {},
   "outputs": [
    {
     "data": {
      "text/plain": [
       "17.99906158357771"
      ]
     },
     "execution_count": 42,
     "metadata": {},
     "output_type": "execute_result"
    }
   ],
   "source": [
    "(18.83*(161+115)+16.4*46 + 9.8*19)/341"
   ]
  },
  {
   "cell_type": "code",
   "execution_count": 46,
   "metadata": {},
   "outputs": [
    {
     "data": {
      "text/plain": [
       "41395"
      ]
     },
     "execution_count": 46,
     "metadata": {},
     "output_type": "execute_result"
    }
   ],
   "source": [
    "42433-(1038)"
   ]
  }
 ],
 "metadata": {
  "kernelspec": {
   "display_name": "venv",
   "language": "python",
   "name": "python3"
  },
  "language_info": {
   "codemirror_mode": {
    "name": "ipython",
    "version": 3
   },
   "file_extension": ".py",
   "mimetype": "text/x-python",
   "name": "python",
   "nbconvert_exporter": "python",
   "pygments_lexer": "ipython3",
   "version": "3.10.12"
  }
 },
 "nbformat": 4,
 "nbformat_minor": 2
}
