{
 "cells": [
  {
   "cell_type": "markdown",
   "metadata": {},
   "source": [
    "## To get the age of the ACC database subjects"
   ]
  },
  {
   "cell_type": "code",
   "execution_count": 2,
   "metadata": {},
   "outputs": [
    {
     "name": "stderr",
     "output_type": "stream",
     "text": [
      "/usr/lib/python3/dist-packages/scipy/__init__.py:146: UserWarning: A NumPy version >=1.17.3 and <1.25.0 is required for this version of SciPy (detected version 1.26.4\n",
      "  warnings.warn(f\"A NumPy version >={np_minversion} and <{np_maxversion}\"\n"
     ]
    }
   ],
   "source": [
    "import matplotlib.pyplot as plt\n",
    "import seaborn as sns\n",
    "import pandas as pd"
   ]
  },
  {
   "cell_type": "code",
   "execution_count": 3,
   "metadata": {},
   "outputs": [
    {
     "data": {
      "text/plain": [
       "Index(['Unnamed: 0', 'PERSON_ID', 'Sujet', 'name', 'DATABASE', 'SEX', 'HAND',\n",
       "       'IRM_NAME0', 'IRM_NAME1', 'long_name', 'Left_PCS', 'Right_PCS',\n",
       "       'AGESCAN0', 'AGESCAN1', 'Age', 'Groupe', 'GroupeNew', 'QC_Cloelia0',\n",
       "       'QC_Cloelia1', 'PCS_L0', 'PCS_L1', 'PCS_L_num3_0', 'PCS_L_num3_1',\n",
       "       'PCS_L_num1_0', 'PCS_L_num1_1', 'JUDGMENT (L)0', 'JUDGMENT (L)1',\n",
       "       'PCS_R0', 'PCS_R1', 'PCS_R_num3_0', 'PCS_R_num3_1', 'PCS_R_num1_0',\n",
       "       'PCS_R_num1_1', 'JUDGMENT (R)0', 'JUDGMENT (R)1', 'DURATION_FOLLOWUP',\n",
       "       'PCS3_L0', 'PCS3_L1', 'PCS3_R0', 'PCS3_R1', 'PCS2_L0', 'PCS2_L1',\n",
       "       'PCS2_R0', 'PCS2_R1', 'Stroop', 'Unnamed: 8', 'LQC', 'RQC', 'Asym2',\n",
       "       'Asym3', 'StroopLecture', 'StroopCouleur', 'StroopIncong',\n",
       "       'Incong-lecture', 'Inc-coul', 'TMTA', 'TMTB', 'Flex', 'right_3level',\n",
       "       'left_2level', 'right_2level', 'Asym3_from2', 'Asym3_from3',\n",
       "       'Asym2_from2', 'PCS_asymetry'],\n",
       "      dtype='object')"
      ]
     },
     "execution_count": 3,
     "metadata": {},
     "output_type": "execute_result"
    }
   ],
   "source": [
    "labels_ACCP = pd.read_csv(\"/neurospin/dico/data/deep_folding/current/datasets/ACCpatterns/subjects_labels.csv\")\n",
    "labels_ACCP.columns"
   ]
  },
  {
   "cell_type": "code",
   "execution_count": 4,
   "metadata": {},
   "outputs": [
    {
     "data": {
      "image/png": "[encoded data removed]",
      "text/plain": [
       "<Figure size 432x288 with 2 Axes>"
      ]
     },
     "metadata": {
      "needs_background": "light"
     },
     "output_type": "display_data"
    },
    {
     "name": "stderr",
     "output_type": "stream",
     "text": [
      "/usr/lib/python3/dist-packages/pandas/core/generic.py:5516: SettingWithCopyWarning: \n",
      "A value is trying to be set on a copy of a slice from a DataFrame.\n",
      "Try using .loc[row_indexer,col_indexer] = value instead\n",
      "\n",
      "See the caveats in the documentation: https://pandas.pydata.org/pandas-docs/stable/user_guide/indexing.html#returning-a-view-versus-a-copy\n",
      "  self[name] = value\n"
     ]
    },
    {
     "data": {
      "text/html": [
       "<div>\n",
       "<style scoped>\n",
       "    .dataframe tbody tr th:only-of-type {\n",
       "        vertical-align: middle;\n",
       "    }\n",
       "\n",
       "    .dataframe tbody tr th {\n",
       "        vertical-align: top;\n",
       "    }\n",
       "\n",
       "    .dataframe thead th {\n",
       "        text-align: right;\n",
       "    }\n",
       "</style>\n",
       "<table border=\"1\" class=\"dataframe\">\n",
       "  <thead>\n",
       "    <tr style=\"text-align: right;\">\n",
       "      <th></th>\n",
       "      <th>AGESCAN0</th>\n",
       "      <th>AGESCAN1</th>\n",
       "      <th>Age</th>\n",
       "    </tr>\n",
       "  </thead>\n",
       "  <tbody>\n",
       "    <tr>\n",
       "      <th>count</th>\n",
       "      <td>197.000000</td>\n",
       "      <td>197.000000</td>\n",
       "      <td>80.000000</td>\n",
       "    </tr>\n",
       "    <tr>\n",
       "      <th>mean</th>\n",
       "      <td>14.023401</td>\n",
       "      <td>20.293503</td>\n",
       "      <td>18.837945</td>\n",
       "    </tr>\n",
       "    <tr>\n",
       "      <th>std</th>\n",
       "      <td>3.540376</td>\n",
       "      <td>4.862891</td>\n",
       "      <td>8.046617</td>\n",
       "    </tr>\n",
       "    <tr>\n",
       "      <th>min</th>\n",
       "      <td>6.540000</td>\n",
       "      <td>10.380000</td>\n",
       "      <td>9.460274</td>\n",
       "    </tr>\n",
       "    <tr>\n",
       "      <th>25%</th>\n",
       "      <td>11.630000</td>\n",
       "      <td>16.740000</td>\n",
       "      <td>11.810274</td>\n",
       "    </tr>\n",
       "    <tr>\n",
       "      <th>50%</th>\n",
       "      <td>13.630000</td>\n",
       "      <td>20.100000</td>\n",
       "      <td>17.405479</td>\n",
       "    </tr>\n",
       "    <tr>\n",
       "      <th>75%</th>\n",
       "      <td>15.790000</td>\n",
       "      <td>23.960000</td>\n",
       "      <td>25.228082</td>\n",
       "    </tr>\n",
       "    <tr>\n",
       "      <th>max</th>\n",
       "      <td>26.420000</td>\n",
       "      <td>32.800000</td>\n",
       "      <td>40.473973</td>\n",
       "    </tr>\n",
       "  </tbody>\n",
       "</table>\n",
       "</div>"
      ],
      "text/plain": [
       "         AGESCAN0    AGESCAN1        Age\n",
       "count  197.000000  197.000000  80.000000\n",
       "mean    14.023401   20.293503  18.837945\n",
       "std      3.540376    4.862891   8.046617\n",
       "min      6.540000   10.380000   9.460274\n",
       "25%     11.630000   16.740000  11.810274\n",
       "50%     13.630000   20.100000  17.405479\n",
       "75%     15.790000   23.960000  25.228082\n",
       "max     26.420000   32.800000  40.473973"
      ]
     },
     "execution_count": 4,
     "metadata": {},
     "output_type": "execute_result"
    }
   ],
   "source": [
    "dcfro = labels_ACCP[['DATABASE', 'SEX', 'AGESCAN0', 'AGESCAN1','Age']]\n",
    "colours = ['#34495E', 'seagreen'] \n",
    "sns.heatmap(dcfro.isnull(), cmap=sns.color_palette(colours))\n",
    "plt.show()\n",
    "dcfro.AGESCAN0 = dcfro.AGESCAN0.str.replace(',', '.').astype('float')\n",
    "dcfro.AGESCAN1 = dcfro.AGESCAN1.str.replace(',', '.').astype('float')\n",
    "dcfro.describe()"
   ]
  }
 ],
 "metadata": {
  "kernelspec": {
   "display_name": "venv",
   "language": "python",
   "name": "python3"
  },
  "language_info": {
   "codemirror_mode": {
    "name": "ipython",
    "version": 3
   },
   "file_extension": ".py",
   "mimetype": "text/x-python",
   "name": "python",
   "nbconvert_exporter": "python",
   "pygments_lexer": "ipython3",
   "version": "3.10.12"
  }
 },
 "nbformat": 4,
 "nbformat_minor": 2
}
